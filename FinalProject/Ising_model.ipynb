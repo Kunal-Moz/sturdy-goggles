{
 "cells": [
  {
   "cell_type": "markdown",
   "metadata": {},
   "source": [
    "# 2-D Ising Model\n",
    "\n",
    "We will investigate the 2-d Ising model with Monte Carlo methods. Since there are many internal iterations, it is much faster to run in `C++` with `swig`. "
   ]
  },
  {
   "cell_type": "markdown",
   "metadata": {},
   "source": [
    "### Compile with swig"
   ]
  },
  {
   "cell_type": "code",
   "execution_count": 1,
   "metadata": {},
   "outputs": [
    {
     "name": "stdout",
     "output_type": "stream",
     "text": [
      "running build_ext\n",
      "building '_ising' extension\n",
      "x86_64-linux-gnu-gcc -pthread -Wno-unused-result -Wsign-compare -DNDEBUG -g -fwrapv -O2 -Wall -g -fstack-protector-strong -Wformat -Werror=format-security -g -fwrapv -O2 -g -fstack-protector-strong -Wformat -Werror=format-security -Wdate-time -D_FORTIFY_SOURCE=2 -fPIC -I/usr/include/python3.7m -c swig/ising_wrap.cxx -o build/temp.linux-x86_64-3.7/swig/ising_wrap.o -I./ -std=c++11 -O3\n",
      "x86_64-linux-gnu-gcc -pthread -Wno-unused-result -Wsign-compare -DNDEBUG -g -fwrapv -O2 -Wall -g -fstack-protector-strong -Wformat -Werror=format-security -g -fwrapv -O2 -g -fstack-protector-strong -Wformat -Werror=format-security -Wdate-time -D_FORTIFY_SOURCE=2 -fPIC -I/usr/include/python3.7m -c ising.cpp -o build/temp.linux-x86_64-3.7/ising.o -I./ -std=c++11 -O3\n",
      "x86_64-linux-gnu-g++ -pthread -shared -Wl,-O1 -Wl,-Bsymbolic-functions -Wl,-Bsymbolic-functions -Wl,-z,relro -Wl,-Bsymbolic-functions -Wl,-z,relro -g -fstack-protector-strong -Wformat -Werror=format-security -Wdate-time -D_FORTIFY_SOURCE=2 build/temp.linux-x86_64-3.7/swig/ising_wrap.o build/temp.linux-x86_64-3.7/ising.o -o /results/finalproject2020-Kunal-Moz/_ising.cpython-37m-x86_64-linux-gnu.so\n"
     ]
    }
   ],
   "source": [
    "! swig -c++ -python swig/ising.i\n",
    "! python swig/setup_ising.py build_ext --inplace"
   ]
  },
  {
   "cell_type": "markdown",
   "metadata": {},
   "source": [
    "### Import from swig"
   ]
  },
  {
   "cell_type": "code",
   "execution_count": 2,
   "metadata": {},
   "outputs": [],
   "source": [
    "import sys\n",
    "import os\n",
    "sys.path.append( os.path.abspath(\"swig\") )\n",
    "import ising\n",
    "import numpy as np\n",
    "import matplotlib.pyplot as plt\n",
    "from scipy.optimize import curve_fit"
   ]
  },
  {
   "cell_type": "code",
   "execution_count": 3,
   "metadata": {},
   "outputs": [],
   "source": [
    "# Make the plots a bit bigger to see\n",
    "# NOTE: Must be done in a separate cell\n",
    "plt.rcParams['figure.dpi'] = 100"
   ]
  },
  {
   "cell_type": "markdown",
   "metadata": {},
   "source": [
    "## Run the simulations for various temperatures\n",
    "\n",
    "\n",
    "Also plot the average magnetization as a function of the MC step. "
   ]
  },
  {
   "cell_type": "code",
   "execution_count": 4,
   "metadata": {
    "scrolled": true
   },
   "outputs": [],
   "source": [
    "L = 40\n",
    "J = 1.0\n",
    "H = 0.0\n",
    "MCSteps = 8000\n",
    "\n",
    "eAvgVals = []\n",
    "mAvgVals = []\n",
    "e2AvgVals = []\n",
    "m2AvgVals = []\n",
    "i = ising.Ising(J, L, 0.0, 0.0)\n",
    "Tvals = np.arange(0.01,3.51,0.01)\n",
    "for T in Tvals:\n",
    "    i.set_T(T)\n",
    "    i.compute_boltzmann_factors()\n",
    "    i.reset_averages()\n",
    "    i.run(MCSteps)\n",
    "    mvals = i.get_mvals()\n",
    "    eAvgVals.append( i.get_eAvg() )\n",
    "    e2AvgVals.append( i.get_e2Avg() )\n",
    "    mAvgVals.append( i.get_mAvg() )\n",
    "    m2AvgVals.append( i.get_m2Avg() )    \n"
   ]
  },
  {
   "cell_type": "markdown",
   "metadata": {},
   "source": [
    "### Plot average magnetization versus temperature"
   ]
  },
  {
   "cell_type": "code",
   "execution_count": 5,
   "metadata": {},
   "outputs": [],
   "source": [
    "def fit_func(T, Tc, b):\n",
    "    if T <= Tc:\n",
    "        return (1.0 - (np.sinh(2.0/T))**(-4) )**b\n",
    "    else:\n",
    "        return 0.0\n",
    "\n",
    "def fitfunc_vec_self(T, Tc, b):\n",
    "    y = np.zeros(T.shape)\n",
    "    for i in range(len(y)):\n",
    "        y[i]=fit_func(T[i],Tc,b)\n",
    "    return y\n"
   ]
  },
  {
   "cell_type": "code",
   "execution_count": 6,
   "metadata": {},
   "outputs": [],
   "source": [
    "xvals = Tvals\n",
    "yvals = np.abs(mAvgVals)\n",
    "popt, pcov = curve_fit(fitfunc_vec_self, xvals, yvals, bounds=([2.0,0.09], [2.5,0.15]) )\n",
    "print(r\"Estimate for T_c = \", popt[0])\n",
    "print(r\"Estimate for beta = \", popt[1])\n",
    "plt.scatter(xvals, yvals , c= 'red', s= 4.0, label=r'$\\langle M \\rangle$')\n",
    "plt.plot(xvals, fitfunc_vec_self(xvals, *popt), label = 'Fit')\n",
    "# plt.plot(xvals, fitfunc(xvals, *popt), label = 'Fit')\n",
    "plt.legend()\n",
    "plt.xlabel(\"T\")\n",
    "plt.ylabel(r'$\\langle M \\rangle$')\n",
    "# plt.savefig(\"data/2d/L_40_2d_MvT.pdf\")\n",
    "# plt.show()"
   ]
  },
  {
   "cell_type": "markdown",
   "metadata": {},
   "source": [
    "### Plot average energy per spin versus Temperature"
   ]
  },
  {
   "cell_type": "code",
   "execution_count": 7,
   "metadata": {},
   "outputs": [],
   "source": [
    "Eavgval = eAvgVals\n",
    "plt.scatter(Tvals, Eavgval , c= 'red', s= 1.0, label=r'$\\langle E \\rangle$')\n",
    "plt.legend()\n",
    "plt.xlabel(\"T\")\n",
    "plt.ylabel(r'$\\langle E \\rangle$')\n",
    "# plt.savefig(\"data/2d/L_40_2d_EvT.pdf\")\n",
    "plt.show()"
   ]
  },
  {
   "cell_type": "code",
   "execution_count": 8,
   "metadata": {},
   "outputs": [],
   "source": [
    "def find_Der(yvals, xvals):\n",
    "    ''' f     : name of function to be differentiated\n",
    "        x     : the point at which df/dx is required\n",
    "        h     : step size\n",
    "    '''\n",
    "    \n",
    "    nn = len(yvals)\n",
    "    dfdx = np.zeros(nn)\n",
    "    #for i in range(2,nn-2):\n",
    "        #dfdx[i+2] = ( yvals[i-2] - 8*yvals[i-1] + 8*yvals[i+1] - yvals[i+2]) / (12*(xvals[i+1] - xvals[i]) )\n",
    "    for i in range(0,nn-1):    \n",
    "        dfdx [i+1] = (yvals[i+1] -yvals[i])/(xvals[i+1] - xvals[i])\n",
    "    return dfdx\n"
   ]
  },
  {
   "cell_type": "markdown",
   "metadata": {},
   "source": [
    "### Specific Heat $C_v = \\frac{d\\langle E \\rangle}{dT}$"
   ]
  },
  {
   "cell_type": "code",
   "execution_count": 9,
   "metadata": {},
   "outputs": [],
   "source": [
    "dEdT = find_Der(eAvgVals, Tvals)\n",
    "plt.scatter(Tvals, dEdT , c= 'red', s= 1.0, label = r'$C = \\frac{d\\langle E \\rangle}{dT}$')\n",
    "#plt.plot(Tvals,dEdT)\n",
    "plt.legend()\n",
    "plt.xlabel(\"T\")\n",
    "plt.ylabel(r'$C = \\frac{d\\langle E \\rangle}{dT}$')\n",
    "# plt.savefig(\"data/2d/L_40_2d_CvT.pdf\")\n",
    "plt.show()"
   ]
  },
  {
   "cell_type": "markdown",
   "metadata": {},
   "source": [
    "### Magnetic susceptibility $\\chi = \\frac{\\langle M^2 \\rangle - \\langle M \\rangle^2}{T}$"
   ]
  },
  {
   "cell_type": "code",
   "execution_count": 10,
   "metadata": {},
   "outputs": [],
   "source": [
    "chi = (m2AvgVals - np.square(mAvgVals))/Tvals\n",
    "plt.scatter(Tvals, chi , c= 'red', s= 1.0, label =r'$\\chi$')\n",
    "#plt.plot(Tvals,dEdT)\n",
    "plt.legend()\n",
    "plt.xlabel(\"T\")\n",
    "plt.ylabel(r'$\\chi$')\n",
    "# plt.savefig(\"data/2d/L_40_2d_ChivT.pdf\")\n",
    "plt.show()"
   ]
  },
  {
   "cell_type": "markdown",
   "metadata": {},
   "source": [
    "## Run simulation for various Magnetic Field  \n",
    "We consider $H$ as thermodynamic variable keeping $T$ as constant at $T<T_c$ , $T=T_c$ and $T>T_c$ where the $T_c = 2.3$"
   ]
  },
  {
   "cell_type": "code",
   "execution_count": 11,
   "metadata": {},
   "outputs": [],
   "source": [
    "L = 40\n",
    "J = 1.0\n",
    "# Values of T = 1.0, 2.26, 3.5\n",
    "T = 1.0\n",
    "H = -5.0\n",
    "MCSteps = 8000\n",
    "\n",
    "eAvgVal = []\n",
    "mAvgVal = []\n",
    "# print(spin)\n",
    "i = ising.Ising(J, L, T, 0.0)\n",
    "Hvals = np.arange(-0.5,0.5,0.005)\n",
    "Hvals = np.append(Hvals,Hvals[::-1])\n",
    "for H in Hvals:\n",
    "    i.set_H(H)\n",
    "    i.compute_boltzmann_factors()\n",
    "    i.reset_averages()\n",
    "    i.run(MCSteps)\n",
    "    mvals = i.get_mvals()\n",
    "    eAvgVal.append( i.get_eAvg() )\n",
    "    mAvgVal.append( i.get_mAvg() )\n",
    "#     print(i.get_T(),i.get_H(),i.get_eAvg(),i.get_mAvg() )\n"
   ]
  },
  {
   "cell_type": "code",
   "execution_count": 32,
   "metadata": {},
   "outputs": [
    {
     "data": {
      "image/png": "[encoded data removed]",
      "text/plain": [
       "<Figure size 600x400 with 1 Axes>"
      ]
     },
     "metadata": {
      "needs_background": "light"
     },
     "output_type": "display_data"
    }
   ],
   "source": [
    "nn = len(Hvals)\n",
    "# print(nn)\n",
    "H_up = Hvals[0:int(nn/2)]\n",
    "M_up = mAvgVal[0:int(nn/2)]\n",
    "H_dn = Hvals[int(nn/2)+1:nn]\n",
    "M_dn = mAvgVal[int(nn/2)+1:nn]\n",
    "plt.scatter(H_up, M_up , c= 'IndianRed', s= 4,marker='o', label='Increasing $H$')\n",
    "plt.scatter(H_dn, M_dn , c= 'RoyalBlue', s= 4,marker='o', label='Decreasing $H$')\n",
    "plt.legend()\n",
    "# plt.xlim(-0.15,0.15)\n",
    "plt.xlabel(\"Field (H)\", fontsize=15);\n",
    "plt.ylabel('Magnetization', fontsize=15);         #plt.axis('tight');\n",
    "# plt.savefig(\"paperdata/L_40_2d_MvH_T_10.pdf\")\n",
    "# plt.show()"
   ]
  },
  {
   "cell_type": "code",
   "execution_count": 13,
   "metadata": {},
   "outputs": [
    {
     "data": {
      "image/png": "[encoded data removed]",
      "text/plain": [
       "<Figure size 600x400 with 1 Axes>"
      ]
     },
     "metadata": {
      "needs_background": "light"
     },
     "output_type": "display_data"
    }
   ],
   "source": [
    "E_up = eAvgVal[0:int(nn/2)]\n",
    "E_dn = eAvgVal[int(nn/2)+1:nn]\n",
    "plt.scatter(H_up, E_up , c= 'red', s= 4.0, label='Increasing $H$')\n",
    "plt.scatter(H_dn, E_dn , c= 'blue', s= 4.0, label='Decreasing $H$')\n",
    "plt.legend()\n",
    "# plt.xlim(-0.15,0.15)\n",
    "plt.xlabel(\"H\")\n",
    "plt.ylabel(r'$\\langle E \\rangle$')\n",
    "# plt.savefig(\"paperdata/2d/L_40_2d_EvH_T_35.pdf\")\n",
    "plt.show()"
   ]
  },
  {
   "cell_type": "code",
   "execution_count": null,
   "metadata": {},
   "outputs": [],
   "source": []
  },
  {
   "cell_type": "code",
   "execution_count": null,
   "metadata": {},
   "outputs": [],
   "source": []
  }
 ],
 "metadata": {
  "kernelspec": {
   "display_name": "Python 3",
   "language": "python",
   "name": "python3"
  },
  "language_info": {
   "codemirror_mode": {
    "name": "ipython",
    "version": 3
   },
   "file_extension": ".py",
   "mimetype": "text/x-python",
   "name": "python",
   "nbconvert_exporter": "python",
   "pygments_lexer": "ipython3",
   "version": "3.7.5rc1"
  }
 },
 "nbformat": 4,
 "nbformat_minor": 2
}
