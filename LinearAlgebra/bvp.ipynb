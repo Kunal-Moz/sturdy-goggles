{
 "cells": [
  {
   "cell_type": "markdown",
   "metadata": {},
   "source": [
    "# Solve a boundary value problem\n",
    "\n",
    "We solve the boundary value problem\n",
    "$$\n",
    "\\frac{d^2u}{dx^2} = -\\frac{\\pi^2}{4} \\left(u + 1\\right)\n",
    "$$\n",
    "\n",
    " with Dirichlet boundary conditions $u(0)=0$ and $u(1)=1$.\n",
    "\n",
    "\n",
    "This is discretized as : \n",
    "\n",
    "$$\n",
    "\\frac{(2 u_i - u_{i+1} - u_{i-1}) }{ h^2 } = \\frac{\\pi^2}{4}  \\left(u_i + 1\\right)\n",
    "$$\n"
   ]
  },
  {
   "cell_type": "code",
   "execution_count": 1,
   "metadata": {},
   "outputs": [],
   "source": [
    "import numpy as np\n",
    "from scipy.sparse import diags, linalg\n",
    "from matplotlib import pyplot as plt"
   ]
  },
  {
   "cell_type": "markdown",
   "metadata": {},
   "source": [
    "### Analytic solution\n",
    "\n",
    "This is a simple harmonic oscillator. We set\n",
    "\n",
    "$$\n",
    "v(x) = u(x)+1\n",
    "$$\n",
    "\n",
    "So the general solution is\n",
    "\n",
    "$$\n",
    "v(x) = A\\cos(\\omega x) + B\\sin(\\omega x)\n",
    "$$\n",
    "\n",
    "We can see $\\omega = \\pi/2$, and then we solve the boundary conditions $v(0)=u(0)+1=0+1=1$ and $v(1)=u(1)+1=1+1=2$, so the coefficients are $A=1$ and $B=2$. We then change variables back to $u$ and get\n",
    "\n",
    "$$\n",
    "u(x) = \\cos\\left(\\frac{\\pi}{2}x\\right) + 2\\sin\\left(\\frac{\\pi}{2}x\\right) -1\n",
    "$$"
   ]
  },
  {
   "cell_type": "code",
   "execution_count": 2,
   "metadata": {},
   "outputs": [],
   "source": [
    "def analytic(x):\n",
    "    return -1. + np.cos(np.pi*0.5*x)+2.*np.sin(np.pi*0.5*x)"
   ]
  },
  {
   "cell_type": "markdown",
   "metadata": {},
   "source": [
    "### Set up the equation and initial conditions"
   ]
  },
  {
   "cell_type": "code",
   "execution_count": 8,
   "metadata": {},
   "outputs": [
    {
     "name": "stdout",
     "output_type": "stream",
     "text": [
      "[2.46740110e-08 2.46740110e-08 2.46740110e-08 ... 2.46740110e-08\n",
      " 2.46740110e-08 1.00000002e+00]\n"
     ]
    }
   ],
   "source": [
    "N = 10000\n",
    "h = 0.0001\n",
    "c = h**2 * np.pi**2 * 0.25\n",
    "u0 = np.full(N, c)\n",
    "u0[-1] = 1.+c\n",
    "print(u0)"
   ]
  },
  {
   "cell_type": "markdown",
   "metadata": {},
   "source": [
    "## Make the sparse matrix\n",
    "\n",
    "We don't need to store the full array (although we print it with `toarray` for demonstration). "
   ]
  },
  {
   "cell_type": "code",
   "execution_count": 9,
   "metadata": {},
   "outputs": [
    {
     "name": "stdout",
     "output_type": "stream",
     "text": [
      "[array([1.99999998, 1.99999998, 1.99999998, ..., 1.99999998, 1.99999998,\n",
      "       1.99999998]), array([-1, -1, -1, ..., -1, -1, -1]), array([-1, -1, -1, ..., -1, -1, -1])]\n",
      "[[ 1.99999998 -1.          0.         ...  0.          0.\n",
      "   0.        ]\n",
      " [-1.          1.99999998 -1.         ...  0.          0.\n",
      "   0.        ]\n",
      " [ 0.         -1.          1.99999998 ...  0.          0.\n",
      "   0.        ]\n",
      " ...\n",
      " [ 0.          0.          0.         ...  1.99999998 -1.\n",
      "   0.        ]\n",
      " [ 0.          0.          0.         ... -1.          1.99999998\n",
      "  -1.        ]\n",
      " [ 0.          0.          0.         ...  0.         -1.\n",
      "   1.99999998]]\n"
     ]
    }
   ],
   "source": [
    "diagonals = [ np.full(N, 2-c), np.full(N-1,-1), np.full(N-1,-1)]\n",
    "print(diagonals)\n",
    "# Here \"CSC\" means \"Compressed Sparse Column\"\n",
    "T = diags(diagonals, [0,-1,1], format = 'csc')\n",
    "print(T.toarray())"
   ]
  },
  {
   "cell_type": "code",
   "execution_count": 5,
   "metadata": {},
   "outputs": [],
   "source": [
    "u = u0"
   ]
  },
  {
   "cell_type": "markdown",
   "metadata": {},
   "source": [
    "## We now solve the sparse equation with `scipy`"
   ]
  },
  {
   "cell_type": "code",
   "execution_count": 6,
   "metadata": {},
   "outputs": [],
   "source": [
    "u = linalg.splu(T).solve(u0)"
   ]
  },
  {
   "cell_type": "code",
   "execution_count": 7,
   "metadata": {},
   "outputs": [
    {
     "data": {
      "image/png": "[encoded data removed]",
      "text/plain": [
       "<Figure size 432x288 with 1 Axes>"
      ]
     },
     "metadata": {
      "needs_background": "light"
     },
     "output_type": "display_data"
    }
   ],
   "source": [
    "x = np.linspace(0,1,len(u))\n",
    "plt.plot(x,u, label=\"Numerical\")\n",
    "plt.plot(x,analytic(x), label=\"Analytic\")\n",
    "plt.xlabel('x')\n",
    "plt.ylabel('u(x)')\n",
    "plt.legend()\n",
    "plt.show()"
   ]
  },
  {
   "cell_type": "code",
   "execution_count": null,
   "metadata": {},
   "outputs": [],
   "source": []
  }
 ],
 "metadata": {
  "kernelspec": {
   "display_name": "Python 3",
   "language": "python",
   "name": "python3"
  },
  "language_info": {
   "codemirror_mode": {
    "name": "ipython",
    "version": 3
   },
   "file_extension": ".py",
   "mimetype": "text/x-python",
   "name": "python",
   "nbconvert_exporter": "python",
   "pygments_lexer": "ipython3",
   "version": "3.7.3"
  }
 },
 "nbformat": 4,
 "nbformat_minor": 2
}
