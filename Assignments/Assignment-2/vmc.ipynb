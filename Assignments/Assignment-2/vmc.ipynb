{
 "cells": [
  {
   "cell_type": "markdown",
   "metadata": {},
   "source": [
    "# Variational MC solution of the Helium Atom\n",
    "\n",
    "Here we are going to investigate a solution to the Schroedinger equation using variational MC. Here we will look at the quantum harmonic oscillator. "
   ]
  },
  {
   "cell_type": "markdown",
   "metadata": {},
   "source": [
    "### Compile and import"
   ]
  },
  {
   "cell_type": "code",
   "execution_count": 1,
   "metadata": {},
   "outputs": [
    {
     "name": "stdout",
     "output_type": "stream",
     "text": [
      "running build_ext\n",
      "building '_vmc' extension\n",
      "x86_64-linux-gnu-gcc -pthread -Wno-unused-result -Wsign-compare -DNDEBUG -g -fwrapv -O2 -Wall -g -fstack-protector-strong -Wformat -Werror=format-security -g -fwrapv -O2 -g -fstack-protector-strong -Wformat -Werror=format-security -Wdate-time -D_FORTIFY_SOURCE=2 -fPIC -I/usr/include/python3.7m -c swig/vmc_wrap.cxx -o build/temp.linux-x86_64-3.7/swig/vmc_wrap.o -I./ -std=c++11 -O3\n",
      "x86_64-linux-gnu-gcc -pthread -Wno-unused-result -Wsign-compare -DNDEBUG -g -fwrapv -O2 -Wall -g -fstack-protector-strong -Wformat -Werror=format-security -g -fwrapv -O2 -g -fstack-protector-strong -Wformat -Werror=format-security -Wdate-time -D_FORTIFY_SOURCE=2 -fPIC -I/usr/include/python3.7m -c vmc.cpp -o build/temp.linux-x86_64-3.7/vmc.o -I./ -std=c++11 -O3\n",
      "\u001b[01m\u001b[Kvmc.cpp:\u001b[m\u001b[K In constructor ‘\u001b[01m\u001b[KHe::He(int, double, int)\u001b[m\u001b[K’:\n",
      "\u001b[01m\u001b[Kvmc.cpp:10:3:\u001b[m\u001b[K \u001b[01;31m\u001b[Kerror: \u001b[m\u001b[K‘\u001b[01m\u001b[Ky\u001b[m\u001b[K’ was not declared in this scope; did you mean ‘\u001b[01m\u001b[Kyn\u001b[m\u001b[K’?\n",
      "   10 |   \u001b[01;31m\u001b[Ky\u001b[m\u001b[K.resize(N);\n",
      "      |   \u001b[01;31m\u001b[K^\u001b[m\u001b[K\n",
      "      |   \u001b[32m\u001b[Kyn\u001b[m\u001b[K\n",
      "\u001b[01m\u001b[Kvmc.cpp:11:3:\u001b[m\u001b[K \u001b[01;31m\u001b[Kerror: \u001b[m\u001b[K‘\u001b[01m\u001b[Kz\u001b[m\u001b[K’ was not declared in this scope\n",
      "   11 |   \u001b[01;31m\u001b[Kz\u001b[m\u001b[K.resize(N);\n",
      "      |   \u001b[01;31m\u001b[K^\u001b[m\u001b[K\n",
      "\u001b[01m\u001b[Kvmc.cpp:\u001b[m\u001b[K At global scope:\n",
      "\u001b[01m\u001b[Kvmc.cpp:36:8:\u001b[m\u001b[K \u001b[01;31m\u001b[Kerror: \u001b[m\u001b[Kno declaration matches ‘\u001b[01m\u001b[Kdouble He::p(Vector3d, Vector3d)\u001b[m\u001b[K’\n",
      "   36 | double \u001b[01;31m\u001b[KHe\u001b[m\u001b[K::p(Vector3d xTrial, Vector3d x) {\n",
      "      |        \u001b[01;31m\u001b[K^~\u001b[m\u001b[K\n",
      "In file included from \u001b[01m\u001b[Kvmc.cpp:2\u001b[m\u001b[K:\n",
      "\u001b[01m\u001b[Kvmc.h:22:10:\u001b[m\u001b[K \u001b[01;36m\u001b[Knote: \u001b[m\u001b[Kcandidate is: ‘\u001b[01m\u001b[Kdouble He::p(Vector3d (*)(), Vector3d (*)())\u001b[m\u001b[K’\n",
      "   22 |   double \u001b[01;36m\u001b[Kp\u001b[m\u001b[K(Vector3d xTrial(), Vector3d x());\n",
      "      |          \u001b[01;36m\u001b[K^\u001b[m\u001b[K\n",
      "\u001b[01m\u001b[Kvmc.h:13:7:\u001b[m\u001b[K \u001b[01;36m\u001b[Knote: \u001b[m\u001b[K‘\u001b[01m\u001b[Kclass He\u001b[m\u001b[K’ defined here\n",
      "   13 | class \u001b[01;36m\u001b[KHe\u001b[m\u001b[K {\n",
      "      |       \u001b[01;36m\u001b[K^~\u001b[m\u001b[K\n",
      "\u001b[01m\u001b[Kvmc.cpp:45:8:\u001b[m\u001b[K \u001b[01;31m\u001b[Kerror: \u001b[m\u001b[Kno declaration matches ‘\u001b[01m\u001b[Kdouble He::eLocal(Vector3d)\u001b[m\u001b[K’\n",
      "   45 | double \u001b[01;31m\u001b[KHe\u001b[m\u001b[K::eLocal(Vector3d xi) {\n",
      "      |        \u001b[01;31m\u001b[K^~\u001b[m\u001b[K\n",
      "In file included from \u001b[01m\u001b[Kvmc.cpp:2\u001b[m\u001b[K:\n",
      "\u001b[01m\u001b[Kvmc.h:25:10:\u001b[m\u001b[K \u001b[01;36m\u001b[Knote: \u001b[m\u001b[Kcandidate is: ‘\u001b[01m\u001b[Kdouble He::eLocal(Vector3d (*)())\u001b[m\u001b[K’\n",
      "   25 |   double \u001b[01;36m\u001b[KeLocal\u001b[m\u001b[K(Vector3d xi());\n",
      "      |          \u001b[01;36m\u001b[K^~~~~~\u001b[m\u001b[K\n",
      "\u001b[01m\u001b[Kvmc.h:13:7:\u001b[m\u001b[K \u001b[01;36m\u001b[Knote: \u001b[m\u001b[K‘\u001b[01m\u001b[Kclass He\u001b[m\u001b[K’ defined here\n",
      "   13 | class \u001b[01;36m\u001b[KHe\u001b[m\u001b[K {\n",
      "      |       \u001b[01;36m\u001b[K^~\u001b[m\u001b[K\n",
      "\u001b[01m\u001b[Kvmc.cpp:\u001b[m\u001b[K In member function ‘\u001b[01m\u001b[Kvoid He::MetropolisStep()\u001b[m\u001b[K’:\n",
      "\u001b[01m\u001b[Kvmc.cpp:63:12:\u001b[m\u001b[K \u001b[01;31m\u001b[Kerror: \u001b[m\u001b[Kno matching function for call to ‘\u001b[01m\u001b[KVector3d::Vector3d()\u001b[m\u001b[K’\n",
      "   63 |   Vector3d \u001b[01;31m\u001b[KxTrial\u001b[m\u001b[K;\n",
      "      |            \u001b[01;31m\u001b[K^~~~~~\u001b[m\u001b[K\n",
      "In file included from \u001b[01m\u001b[Kvmc.h:11\u001b[m\u001b[K,\n",
      "                 from \u001b[01m\u001b[Kvmc.cpp:2\u001b[m\u001b[K:\n",
      "\u001b[01m\u001b[KVec3d.h:13:3:\u001b[m\u001b[K \u001b[01;36m\u001b[Knote: \u001b[m\u001b[Kcandidate: ‘\u001b[01m\u001b[KVector3d::Vector3d(double, double, double)\u001b[m\u001b[K’\n",
      "   13 |   \u001b[01;36m\u001b[KVector3d\u001b[m\u001b[K(double ix, double iy, double iz) :\n",
      "      |   \u001b[01;36m\u001b[K^~~~~~~~\u001b[m\u001b[K\n",
      "\u001b[01m\u001b[KVec3d.h:13:3:\u001b[m\u001b[K \u001b[01;36m\u001b[Knote: \u001b[m\u001b[K  candidate expects 3 arguments, 0 provided\n",
      "\u001b[01m\u001b[KVec3d.h:11:7:\u001b[m\u001b[K \u001b[01;36m\u001b[Knote: \u001b[m\u001b[Kcandidate: ‘\u001b[01m\u001b[Kconstexpr Vector3d::Vector3d(const Vector3d&)\u001b[m\u001b[K’\n",
      "   11 | class \u001b[01;36m\u001b[KVector3d\u001b[m\u001b[K{\n",
      "      |       \u001b[01;36m\u001b[K^~~~~~~~\u001b[m\u001b[K\n",
      "\u001b[01m\u001b[KVec3d.h:11:7:\u001b[m\u001b[K \u001b[01;36m\u001b[Knote: \u001b[m\u001b[K  candidate expects 1 argument, 0 provided\n",
      "\u001b[01m\u001b[KVec3d.h:11:7:\u001b[m\u001b[K \u001b[01;36m\u001b[Knote: \u001b[m\u001b[Kcandidate: ‘\u001b[01m\u001b[Kconstexpr Vector3d::Vector3d(Vector3d&&)\u001b[m\u001b[K’\n",
      "\u001b[01m\u001b[KVec3d.h:11:7:\u001b[m\u001b[K \u001b[01;36m\u001b[Knote: \u001b[m\u001b[K  candidate expects 1 argument, 0 provided\n",
      "\u001b[01m\u001b[Kvmc.cpp:65:22:\u001b[m\u001b[K \u001b[01;31m\u001b[Kerror: \u001b[m\u001b[Kexpected ‘\u001b[01m\u001b[K;\u001b[m\u001b[K’ before ‘\u001b[01m\u001b[Kint\u001b[m\u001b[K’\n",
      "   65 |   rTrial = xTrial.r()\n",
      "      |                      \u001b[01;31m\u001b[K^\u001b[m\u001b[K\n",
      "      |                      \u001b[32m\u001b[K;\u001b[m\u001b[K\n",
      "   66 |   // choose a walker at random\n",
      "   67 |   \u001b[32m\u001b[Kint\u001b[m\u001b[K n = int(dis(gen) * N);\n",
      "      |   \u001b[32m\u001b[K~~~\u001b[m\u001b[K                 \n",
      "\u001b[01m\u001b[Kvmc.cpp:70:15:\u001b[m\u001b[K \u001b[01;31m\u001b[Kerror: \u001b[m\u001b[K‘\u001b[01m\u001b[Kn\u001b[m\u001b[K’ was not declared in this scope; did you mean ‘\u001b[01m\u001b[Kyn\u001b[m\u001b[K’?\n",
      "   70 |   rr = sqrt(x[\u001b[01;31m\u001b[Kn\u001b[m\u001b[K]*xx[n] + y[n]*y[n] + z[n]*z[n]);\n",
      "      |               \u001b[01;31m\u001b[K^\u001b[m\u001b[K\n",
      "      |               \u001b[32m\u001b[Kyn\u001b[m\u001b[K\n",
      "\u001b[01m\u001b[Kvmc.cpp:70:18:\u001b[m\u001b[K \u001b[01;31m\u001b[Kerror: \u001b[m\u001b[K‘\u001b[01m\u001b[Kxx\u001b[m\u001b[K’ was not declared in this scope; did you mean ‘\u001b[01m\u001b[Kx\u001b[m\u001b[K’?\n",
      "   70 |   rr = sqrt(x[n]*\u001b[01;31m\u001b[Kxx\u001b[m\u001b[K[n] + y[n]*y[n] + z[n]*z[n]);\n",
      "      |                  \u001b[01;31m\u001b[K^~\u001b[m\u001b[K\n",
      "      |                  \u001b[32m\u001b[Kx\u001b[m\u001b[K\n",
      "\u001b[01m\u001b[Kvmc.cpp:70:26:\u001b[m\u001b[K \u001b[01;31m\u001b[Kerror: \u001b[m\u001b[K‘\u001b[01m\u001b[Ky\u001b[m\u001b[K’ was not declared in this scope; did you mean ‘\u001b[01m\u001b[Kyn\u001b[m\u001b[K’?\n",
      "   70 |   rr = sqrt(x[n]*xx[n] + \u001b[01;31m\u001b[Ky\u001b[m\u001b[K[n]*y[n] + z[n]*z[n]);\n",
      "      |                          \u001b[01;31m\u001b[K^\u001b[m\u001b[K\n",
      "      |                          \u001b[32m\u001b[Kyn\u001b[m\u001b[K\n",
      "\u001b[01m\u001b[Kvmc.cpp:70:38:\u001b[m\u001b[K \u001b[01;31m\u001b[Kerror: \u001b[m\u001b[K‘\u001b[01m\u001b[Kz\u001b[m\u001b[K’ was not declared in this scope\n",
      "   70 |   rr = sqrt(x[n]*xx[n] + y[n]*y[n] + \u001b[01;31m\u001b[Kz\u001b[m\u001b[K[n]*z[n]);\n",
      "      |                                      \u001b[01;31m\u001b[K^\u001b[m\u001b[K\n",
      "\u001b[01m\u001b[Kvmc.cpp:74:9:\u001b[m\u001b[K \u001b[01;31m\u001b[Kerror: \u001b[m\u001b[Kcannot convert ‘\u001b[01m\u001b[KVector3d\u001b[m\u001b[K’ to ‘\u001b[01m\u001b[KVector3d (*)()\u001b[m\u001b[K’\n",
      "   74 |   if (p(\u001b[01;31m\u001b[KxTrial\u001b[m\u001b[K, rr) > dis(gen) ) {\n",
      "      |         \u001b[01;31m\u001b[K^~~~~~\u001b[m\u001b[K\n",
      "      |         \u001b[01;31m\u001b[K|\u001b[m\u001b[K\n",
      "      |         \u001b[01;31m\u001b[KVector3d\u001b[m\u001b[K\n",
      "In file included from \u001b[01m\u001b[Kvmc.cpp:2\u001b[m\u001b[K:\n",
      "\u001b[01m\u001b[Kvmc.h:22:21:\u001b[m\u001b[K \u001b[01;36m\u001b[Knote: \u001b[m\u001b[K  initializing argument 1 of ‘\u001b[01m\u001b[Kdouble He::p(Vector3d (*)(), Vector3d (*)())\u001b[m\u001b[K’\n",
      "   22 |   double p(\u001b[01;36m\u001b[KVector3d xTrial()\u001b[m\u001b[K, Vector3d x());\n",
      "      |            \u001b[01;36m\u001b[K~~~~~~~~~^~~~~~~~\u001b[m\u001b[K\n",
      "\u001b[01m\u001b[Kvmc.cpp:80:21:\u001b[m\u001b[K \u001b[01;31m\u001b[Kerror: \u001b[m\u001b[Kcannot convert ‘\u001b[01m\u001b[Kdouble\u001b[m\u001b[K’ to ‘\u001b[01m\u001b[KVector3d (*)()\u001b[m\u001b[K’\n",
      "   80 |   double e = eLocal(\u001b[01;31m\u001b[Krr\u001b[m\u001b[K);\n",
      "      |                     \u001b[01;31m\u001b[K^~\u001b[m\u001b[K\n",
      "      |                     \u001b[01;31m\u001b[K|\u001b[m\u001b[K\n",
      "      |                     \u001b[01;31m\u001b[Kdouble\u001b[m\u001b[K\n",
      "In file included from \u001b[01m\u001b[Kvmc.cpp:2\u001b[m\u001b[K:\n",
      "\u001b[01m\u001b[Kvmc.h:25:26:\u001b[m\u001b[K \u001b[01;36m\u001b[Knote: \u001b[m\u001b[K  initializing argument 1 of ‘\u001b[01m\u001b[Kdouble He::eLocal(Vector3d (*)())\u001b[m\u001b[K’\n",
      "   25 |   double eLocal(\u001b[01;36m\u001b[KVector3d xi()\u001b[m\u001b[K);\n",
      "      |                 \u001b[01;36m\u001b[K~~~~~~~~~^~~~\u001b[m\u001b[K\n",
      "\u001b[01m\u001b[Kvmc.cpp:83:23:\u001b[m\u001b[K \u001b[01;31m\u001b[Kerror: \u001b[m\u001b[K‘\u001b[01m\u001b[KxMin\u001b[m\u001b[K’ was not declared in this scope; did you mean ‘\u001b[01m\u001b[KrMin\u001b[m\u001b[K’?\n",
      "   83 |   int i = int((x[n] - \u001b[01;31m\u001b[KxMin\u001b[m\u001b[K) / dx);\n",
      "      |                       \u001b[01;31m\u001b[K^~~~\u001b[m\u001b[K\n",
      "      |                       \u001b[32m\u001b[KrMin\u001b[m\u001b[K\n",
      "\u001b[01m\u001b[Kvmc.cpp:83:31:\u001b[m\u001b[K \u001b[01;31m\u001b[Kerror: \u001b[m\u001b[K‘\u001b[01m\u001b[Kdx\u001b[m\u001b[K’ was not declared in this scope; did you mean ‘\u001b[01m\u001b[Kx\u001b[m\u001b[K’?\n",
      "   83 |   int i = int((x[n] - xMin) / \u001b[01;31m\u001b[Kdx\u001b[m\u001b[K);\n",
      "      |                               \u001b[01;31m\u001b[K^~\u001b[m\u001b[K\n",
      "      |                               \u001b[32m\u001b[Kx\u001b[m\u001b[K\n",
      "\u001b[01m\u001b[Kvmc.cpp:\u001b[m\u001b[K In member function ‘\u001b[01m\u001b[Kvoid He::normPsi()\u001b[m\u001b[K’:\n",
      "\u001b[01m\u001b[Kvmc.cpp:139:28:\u001b[m\u001b[K \u001b[01;31m\u001b[Kerror: \u001b[m\u001b[K‘\u001b[01m\u001b[Kdx\u001b[m\u001b[K’ was not declared in this scope; did you mean ‘\u001b[01m\u001b[Kx\u001b[m\u001b[K’?\n",
      "  139 |     psiNorm += psiSqd[i] * \u001b[01;31m\u001b[Kdx\u001b[m\u001b[K;\n",
      "      |                            \u001b[01;31m\u001b[K^~\u001b[m\u001b[K\n",
      "      |                            \u001b[32m\u001b[Kx\u001b[m\u001b[K\n",
      "error: command 'x86_64-linux-gnu-gcc' failed with exit status 1\n"
     ]
    }
   ],
   "source": [
    "! swig -c++ -python swig/vmc.i\n",
    "! python swig/setup_vmc.py build_ext --inplace"
   ]
  },
  {
   "cell_type": "code",
   "execution_count": 2,
   "metadata": {},
   "outputs": [],
   "source": [
    "import sys\n",
    "import os\n",
    "sys.path.append( os.path.abspath(\"swig\") )"
   ]
  },
  {
   "cell_type": "markdown",
   "metadata": {},
   "source": [
    "### Set up and run the simulation"
   ]
  },
  {
   "cell_type": "code",
   "execution_count": 3,
   "metadata": {},
   "outputs": [],
   "source": [
    "import vmc\n",
    "import numpy as np\n",
    "import matplotlib.pyplot as plt"
   ]
  },
  {
   "cell_type": "code",
   "execution_count": 4,
   "metadata": {},
   "outputs": [],
   "source": [
    "N=10 \n",
    "alpha=0.2\n",
    "MCSteps=10000\n",
    "  \n",
    "helium = vmc.He(N,alpha,MCSteps)\n",
    "helium.adjustStep()\n",
    "helium.doProductionSteps()\n",
    "helium.normPsi()"
   ]
  },
  {
   "cell_type": "markdown",
   "metadata": {},
   "source": [
    "### Plot the wavefunction"
   ]
  },
  {
   "cell_type": "code",
   "execution_count": 5,
   "metadata": {},
   "outputs": [
    {
     "ename": "AttributeError",
     "evalue": "'He' object has no attribute 'get_xMin'",
     "output_type": "error",
     "traceback": [
      "\u001b[0;31m---------------------------------------------------------------------------\u001b[0m",
      "\u001b[0;31mAttributeError\u001b[0m                            Traceback (most recent call last)",
      "\u001b[0;32m<ipython-input-5-5c35c3d9c461>\u001b[0m in \u001b[0;36m<module>\u001b[0;34m\u001b[0m\n\u001b[0;32m----> 1\u001b[0;31m \u001b[0mxMin\u001b[0m \u001b[0;34m=\u001b[0m \u001b[0mhelium\u001b[0m\u001b[0;34m.\u001b[0m\u001b[0mget_xMin\u001b[0m\u001b[0;34m(\u001b[0m\u001b[0;34m)\u001b[0m\u001b[0;34m\u001b[0m\u001b[0;34m\u001b[0m\u001b[0m\n\u001b[0m\u001b[1;32m      2\u001b[0m \u001b[0mxMax\u001b[0m \u001b[0;34m=\u001b[0m \u001b[0mhelium\u001b[0m\u001b[0;34m.\u001b[0m\u001b[0mget_xMax\u001b[0m\u001b[0;34m(\u001b[0m\u001b[0;34m)\u001b[0m\u001b[0;34m\u001b[0m\u001b[0;34m\u001b[0m\u001b[0m\n\u001b[1;32m      3\u001b[0m \u001b[0mdx\u001b[0m \u001b[0;34m=\u001b[0m \u001b[0mhelium\u001b[0m\u001b[0;34m.\u001b[0m\u001b[0mget_dx\u001b[0m\u001b[0;34m(\u001b[0m\u001b[0;34m)\u001b[0m\u001b[0;34m\u001b[0m\u001b[0;34m\u001b[0m\u001b[0m\n\u001b[1;32m      4\u001b[0m \u001b[0mxvals\u001b[0m \u001b[0;34m=\u001b[0m \u001b[0mnp\u001b[0m\u001b[0;34m.\u001b[0m\u001b[0marange\u001b[0m\u001b[0;34m(\u001b[0m\u001b[0mxMin\u001b[0m\u001b[0;34m,\u001b[0m \u001b[0mxMax\u001b[0m\u001b[0;34m,\u001b[0m \u001b[0mdx\u001b[0m\u001b[0;34m)\u001b[0m\u001b[0;34m\u001b[0m\u001b[0;34m\u001b[0m\u001b[0m\n\u001b[1;32m      5\u001b[0m \u001b[0mpsi\u001b[0m \u001b[0;34m=\u001b[0m \u001b[0mnp\u001b[0m\u001b[0;34m.\u001b[0m\u001b[0msqrt\u001b[0m\u001b[0;34m(\u001b[0m \u001b[0mnp\u001b[0m\u001b[0;34m.\u001b[0m\u001b[0mabs\u001b[0m\u001b[0;34m(\u001b[0m\u001b[0mhelium\u001b[0m\u001b[0;34m.\u001b[0m\u001b[0mget_psiSqd\u001b[0m\u001b[0;34m(\u001b[0m\u001b[0;34m)\u001b[0m\u001b[0;34m)\u001b[0m \u001b[0;34m)\u001b[0m\u001b[0;34m\u001b[0m\u001b[0;34m\u001b[0m\u001b[0m\n",
      "\u001b[0;32m~/physics-assignment-2-Kunal-Moz-1/Assignment-2/swig/vmc.py\u001b[0m in \u001b[0;36m<lambda>\u001b[0;34m(self, name)\u001b[0m\n\u001b[1;32m    277\u001b[0m     \u001b[0m__setattr__\u001b[0m \u001b[0;34m=\u001b[0m \u001b[0;32mlambda\u001b[0m \u001b[0mself\u001b[0m\u001b[0;34m,\u001b[0m \u001b[0mname\u001b[0m\u001b[0;34m,\u001b[0m \u001b[0mvalue\u001b[0m\u001b[0;34m:\u001b[0m \u001b[0m_swig_setattr\u001b[0m\u001b[0;34m(\u001b[0m\u001b[0mself\u001b[0m\u001b[0;34m,\u001b[0m \u001b[0mHe\u001b[0m\u001b[0;34m,\u001b[0m \u001b[0mname\u001b[0m\u001b[0;34m,\u001b[0m \u001b[0mvalue\u001b[0m\u001b[0;34m)\u001b[0m\u001b[0;34m\u001b[0m\u001b[0;34m\u001b[0m\u001b[0m\n\u001b[1;32m    278\u001b[0m     \u001b[0m__swig_getmethods__\u001b[0m \u001b[0;34m=\u001b[0m \u001b[0;34m{\u001b[0m\u001b[0;34m}\u001b[0m\u001b[0;34m\u001b[0m\u001b[0;34m\u001b[0m\u001b[0m\n\u001b[0;32m--> 279\u001b[0;31m     \u001b[0m__getattr__\u001b[0m \u001b[0;34m=\u001b[0m \u001b[0;32mlambda\u001b[0m \u001b[0mself\u001b[0m\u001b[0;34m,\u001b[0m \u001b[0mname\u001b[0m\u001b[0;34m:\u001b[0m \u001b[0m_swig_getattr\u001b[0m\u001b[0;34m(\u001b[0m\u001b[0mself\u001b[0m\u001b[0;34m,\u001b[0m \u001b[0mHe\u001b[0m\u001b[0;34m,\u001b[0m \u001b[0mname\u001b[0m\u001b[0;34m)\u001b[0m\u001b[0;34m\u001b[0m\u001b[0;34m\u001b[0m\u001b[0m\n\u001b[0m\u001b[1;32m    280\u001b[0m     \u001b[0m__repr__\u001b[0m \u001b[0;34m=\u001b[0m \u001b[0m_swig_repr\u001b[0m\u001b[0;34m\u001b[0m\u001b[0;34m\u001b[0m\u001b[0m\n\u001b[1;32m    281\u001b[0m \u001b[0;34m\u001b[0m\u001b[0m\n",
      "\u001b[0;32m~/physics-assignment-2-Kunal-Moz-1/Assignment-2/swig/vmc.py\u001b[0m in \u001b[0;36m_swig_getattr\u001b[0;34m(self, class_type, name)\u001b[0m\n\u001b[1;32m     78\u001b[0m     \u001b[0;32mif\u001b[0m \u001b[0mmethod\u001b[0m\u001b[0;34m:\u001b[0m\u001b[0;34m\u001b[0m\u001b[0;34m\u001b[0m\u001b[0m\n\u001b[1;32m     79\u001b[0m         \u001b[0;32mreturn\u001b[0m \u001b[0mmethod\u001b[0m\u001b[0;34m(\u001b[0m\u001b[0mself\u001b[0m\u001b[0;34m)\u001b[0m\u001b[0;34m\u001b[0m\u001b[0;34m\u001b[0m\u001b[0m\n\u001b[0;32m---> 80\u001b[0;31m     \u001b[0;32mraise\u001b[0m \u001b[0mAttributeError\u001b[0m\u001b[0;34m(\u001b[0m\u001b[0;34m\"'%s' object has no attribute '%s'\"\u001b[0m \u001b[0;34m%\u001b[0m \u001b[0;34m(\u001b[0m\u001b[0mclass_type\u001b[0m\u001b[0;34m.\u001b[0m\u001b[0m__name__\u001b[0m\u001b[0;34m,\u001b[0m \u001b[0mname\u001b[0m\u001b[0;34m)\u001b[0m\u001b[0;34m)\u001b[0m\u001b[0;34m\u001b[0m\u001b[0;34m\u001b[0m\u001b[0m\n\u001b[0m\u001b[1;32m     81\u001b[0m \u001b[0;34m\u001b[0m\u001b[0m\n\u001b[1;32m     82\u001b[0m \u001b[0;34m\u001b[0m\u001b[0m\n",
      "\u001b[0;31mAttributeError\u001b[0m: 'He' object has no attribute 'get_xMin'"
     ]
    }
   ],
   "source": [
    "xMin = helium.get_xMin()\n",
    "xMax = helium.get_xMax()\n",
    "dx = helium.get_dx()\n",
    "xvals = np.arange(xMin, xMax, dx)\n",
    "psi = np.sqrt( np.abs(helium.get_psiSqd()) )"
   ]
  },
  {
   "cell_type": "code",
   "execution_count": null,
   "metadata": {},
   "outputs": [],
   "source": [
    "plt.plot(xvals, psi)\n",
    "plt.show()"
   ]
  },
  {
   "cell_type": "code",
   "execution_count": null,
   "metadata": {},
   "outputs": [],
   "source": []
  }
 ],
 "metadata": {
  "kernelspec": {
   "display_name": "Python 3",
   "language": "python",
   "name": "python3"
  },
  "language_info": {
   "codemirror_mode": {
    "name": "ipython",
    "version": 3
   },
   "file_extension": ".py",
   "mimetype": "text/x-python",
   "name": "python",
   "nbconvert_exporter": "python",
   "pygments_lexer": "ipython3",
   "version": "3.7.5rc1"
  }
 },
 "nbformat": 4,
 "nbformat_minor": 2
}
