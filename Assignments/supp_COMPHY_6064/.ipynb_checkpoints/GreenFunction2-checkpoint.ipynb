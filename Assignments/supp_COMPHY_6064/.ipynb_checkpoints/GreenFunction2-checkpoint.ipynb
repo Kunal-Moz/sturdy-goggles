{
 "cells": [
  {
   "cell_type": "markdown",
   "metadata": {},
   "source": [
    "# Requirements for running this notebook succesfully\n",
    "This notebook can be runned using either Python2 or Python3.\n",
    "\n",
    "This notebook requires these Python modules:\n",
    "- `numpy`\n",
    "- `scipy`\n",
    "- `matplotlib`\n",
    "- `sympy`"
   ]
  },
  {
   "cell_type": "code",
   "execution_count": null,
   "metadata": {},
   "outputs": [],
   "source": [
    "import numpy as np, scipy.linalg as la\n",
    "import matplotlib.pyplot as plt\n",
    "import sympy as sy\n",
    "import sympy.physics.quantum as syQ\n",
    "from fractions import Fraction\n",
    "sy.init_printing()\n",
    "from pylab import *\n",
    "%matplotlib inline\n",
    "\n",
    "# The generic_functions.py file must exist in the same directory\n",
    "from generic_functions import *"
   ]
  },
  {
   "cell_type": "markdown",
   "metadata": {},
   "source": [
    "<!-- Creating the LaTeX variables used in this workbook -->\n",
    "LaTeX macro definitions (hidden)\n",
    "$\n",
    "% Define all variables used in this paper\n",
    "\\newcommand\\G{\\mathbf{G}}\n",
    "\\newcommand\\Gr{\\mathbf{G}^r}\n",
    "\\newcommand\\Ga{\\mathbf{G}^a}\n",
    "\\newcommand\\HH{\\mathbf{H}}\n",
    "\\newcommand\\DM{\\boldsymbol{\\rho}}\n",
    "\\newcommand\\DE{\\DM_\\Eq}\n",
    "\\newcommand\\DN{\\DM_\\Neq}\n",
    "\\newcommand\\Spec{\\mathbf{A}}\n",
    "\\newcommand\\SO{\\mathbf{S}}\n",
    "\\newcommand\\SE{\\boldsymbol{\\Sigma}}\n",
    "\\newcommand\\Scat{\\boldsymbol{\\Gamma}}\n",
    "\\newcommand\\kk{\\mathbf{k}}\n",
    "\\newcommand\\kT{kT}\n",
    "\\newcommand\\sumE{\\sum}%^{\\mathfrak{E}}}\n",
    "\\newcommand\\NE{\\mathfrak{E}}\n",
    "\\newcommand\\idxE{\\mathfrak{e}}\n",
    "\\newcommand\\sumU{\\sum^{\\NU}}\n",
    "\\newcommand\\NU{N_\\mu}\n",
    "\\newcommand\\idxU{\\mu}\n",
    "\\newcommand\\cd{\\!\\dd}\n",
    "\\newcommand\\dd{\\mathrm{d}}\n",
    "\\newcommand\\E{\\epsilon}\n",
    "\\newcommand\\BZ{\\mathrm{BZ}}\n",
    "\\newcommand\\Eq{\\mathrm{eq}}\n",
    "\\newcommand\\Neq{\\mathrm{neq}}\n",
    "\\newcommand\\varneq{\\boldsymbol{\\theta}}\n",
    "\\newcommand\\Var{\\mathrm{Var}\\,}\n",
    "\\newcommand\\Res{\\mathrm{Res}\\,}\n",
    "\\def\\Im\\relax\n",
    "\\newcommand\\Im{\\mathrm{Im}\\,}\n",
    "$"
   ]
  },
  {
   "cell_type": "markdown",
   "metadata": {},
   "source": [
    "## Green function notebook\n",
    "\n",
    "This notebook is intended to be read together with the article: ???\n",
    "\n",
    "It touches upon some of the particular details of the implementation in the `TranSIESTA` package which implements the non-equilibrium Green function (NEGF) method.\n",
    "\n",
    "In the following we will try and highlight some of the considerations which are taken into account for the solution of the NEGF equations.\n",
    "\n",
    "### Equilibrium Green function\n",
    "The equilibrium Green function is denoted \n",
    "\n",
    "\\begin{equation}\n",
    "\\G_\\kk(z)=\\big[(\\E+i\\eta)\\SO - \\HH - \\SE\\big]^{-1}\\quad\\text{, with $z=\\E+i\\eta$}\n",
    "\\end{equation}\n",
    "To integrate the equilibrium density we use the following equation\n",
    "\\begin{equation}\n",
    "\\DE = \n",
    "\\iint_\\BZ\\dd z\n",
    "\\big[\\G_\\kk(z)-\\G^\\dagger_\\kk(z)\\big]n_F(\\epsilon),\n",
    "\\end{equation}\n",
    "with $n_F$ being the Fermi function.\n",
    "\n",
    "The Green function is analytical in the complex plane and hence we can use the residue theorem to reduce the computational complexity by integrating in the complex plane.\n",
    "The residue theorem states that\n",
    "\\begin{equation}\n",
    "\\oint f(z)\\dd z = 2\\pi i\\sum_{z_v}\\Res f(z_v)\n",
    "\\end{equation}\n",
    "\n",
    "In our case we integrate $f(z)=\\G(z)n_F(z)$."
   ]
  },
  {
   "cell_type": "markdown",
   "metadata": {},
   "source": [
    "#### Fermi function in the complex plane\n",
    "To show how the Fermi function evolves in the complex plane we plot the real and the imaginary part of the Fermi function here"
   ]
  },
  {
   "cell_type": "code",
   "execution_count": null,
   "metadata": {
    "scrolled": true
   },
   "outputs": [],
   "source": [
    "kT = 0.1 # 4 times Room temperature [eV]\n",
    "E = np.linspace(-7*kT, 7*kT, 150)\n",
    "eta = np.linspace(0, np.pi*kT*4, 150)\n",
    "\n",
    "# Calculate the Fermi function\n",
    "nF = np.empty([len(eta), len(E)], np.complex128)\n",
    "for i,e in enumerate(eta): \n",
    "    nF[i,:] = nf(E, eta=e, kT=kT)\n",
    "\n",
    "# Setup the poles\n",
    "poles = kT * np.pi * (2 * np.arange(2) + 1)\n",
    "\n",
    "fig, axs = plt.subplots(ncols=2, figsize=(15,4))\n",
    "maxis(axs[0], title=r'$\\Re n_F(z)$') ; maxis(axs[1], title=r'$\\Im n_F(z)$')\n",
    "maxis(axs, xlbl='Energy [eV]', xrng=[np.amin(E), np.amax(E)],\n",
    "      ylbl='Complex energy [eV]', yrng=[0, np.amax(eta)])\n",
    "L = kT * np.pi * ( 2 )\n",
    "for i,data in enumerate([nF.real, nF.imag]):\n",
    "    p = axs[i].pcolor(E, eta, data, cmap = cm.RdBu, vmin=-1.1, vmax=1.1)\n",
    "    fig.colorbar(p, ax=axs[i])\n",
    "    axs[i].scatter(np.zeros(len(poles)), poles, facecolors='none', edgecolors='w', s=80)\n",
    "    axs[i].plot([E[0], E[-1]], [L, L], 'k--')"
   ]
  },
  {
   "cell_type": "markdown",
   "metadata": {},
   "source": [
    "This shows the poles and where we do not want the integral to pass through. To integrate the Fermi function in the complex plane we need to encapsulate the poles in the _best_ manner. This is done by selecting a line in between two poles $\\Im\\mathcal L = 2\\kT \\pi(\\nu+1)$."
   ]
  },
  {
   "cell_type": "markdown",
   "metadata": {},
   "source": [
    "### Non-equilibrium\n",
    "\n",
    "Non-equilibrium is, in `TranSIESTA` _only_ determined through the difference between any two leads Fermi distributions. For any $N_\\idxE$ electrode calculation it will be equilibrium if all $\\mu_\\idxE=\\mu_{\\idxE'}$ `and` $\\kT_\\idxE=\\kT_{\\idxE'}$.\n",
    "\n",
    "We here show some differing Fermi functions in non-equilibrium situations."
   ]
  },
  {
   "cell_type": "code",
   "execution_count": null,
   "metadata": {},
   "outputs": [],
   "source": [
    "V = .5 # eV\n",
    "E = np.linspace(-V*1.5, V*1.5,100)\n",
    "fig, axs = plt.subplots(ncols=4, figsize=(15,3))\n",
    "maxis(axs, xlbl='Energy [eV]')\n",
    "for i,km in enumerate(zip(['=']+['\\\\neq']*3,['\\\\neq','=','\\\\neq','\\\\simeq'])):\n",
    "    maxis(axs[i], title='$kT_1 '+str(km[0])+' kT_2,\\, \\mu_1 '+str(km[1])+' \\mu_2$')\n",
    "axs[0].plot(E,nf(E-V/2),'.r', label='Lead 1')\n",
    "axs[0].plot(E,nf(E+V/2),'.b', label='Lead 2')\n",
    "axs[0].plot(E,nf(E-V/2)-nf(E+V/2), 'g', label='Difference')\n",
    "axs[0].legend(*axs[0].get_legend_handles_labels(), loc=3,\n",
    "              bbox_to_anchor=(0., 1.12, 1., .102), ncol=3, borderaxespad=0.)\n",
    "axs[1].plot(E,nf(E, kT=0.025), '.r')\n",
    "axs[1].plot(E,nf(E, kT=0.1), '.b')\n",
    "axs[1].plot(E,nf(E, kT=0.025)-nf(E, kT=0.1), 'g')\n",
    "axs[2].plot(E,nf(E-V/2, kT=0.025), '.r')\n",
    "axs[2].plot(E,nf(E+V/2, kT=0.1), '.b')\n",
    "axs[2].plot(E,nf(E-V/2, kT=0.025)-nf(E+V/2, kT=0.1), 'g')\n",
    "axs[3].plot(E,nf(E-V*0.1, kT=0.025), '.r')\n",
    "axs[3].plot(E,nf(E+V*0.1, kT=0.1), '.b')\n",
    "axs[3].plot(E,nf(E-V*0.1, kT=0.025)-nf(E+V*0.1, kT=0.1), 'g');"
   ]
  },
  {
   "cell_type": "markdown",
   "metadata": {},
   "source": [
    "### Non-equilibrium weight coefficients\n",
    "\n",
    "As `TranSIESTA` calculates the contribution for all in-equivalent Fermi distributions one have several numerical values for the same quantity.\n",
    "\n",
    "`TranSIESTA` employs an heuristic weighting method which can easily be solved using simple algebra"
   ]
  },
  {
   "cell_type": "code",
   "execution_count": null,
   "metadata": {},
   "outputs": [],
   "source": [
    "# Change to see for more number of chemical potentials\n",
    "N_mu = 4\n",
    "beta = sy.symbols('beta0:{0}'.format(N_mu))\n",
    "w    = sy.symbols('w0:{0}'.format(N_mu), positive=True)\n",
    "Var, wsum = 0., 0.\n",
    "for i in range(N_mu-1):\n",
    "    Var += w[i] **2 * beta[i]\n",
    "    wsum += w[i]\n",
    "Var += w[N_mu-1] ** 2 * beta[N_mu-1]\n",
    "# Replace w_mu by identity rule of weights\n",
    "Var = Var.subs(w[-1], 1-wsum)\n",
    "Var"
   ]
  },
  {
   "cell_type": "code",
   "execution_count": null,
   "metadata": {},
   "outputs": [],
   "source": [
    "eqs = []\n",
    "for i in range(N_mu-1):\n",
    "    eqs.append(sy.diff(Var, w[i]))\n",
    "# Add the final equation (identity rule of weights)\n",
    "eqs.append(1)\n",
    "for iw in w:\n",
    "    eqs[-1] -= iw\n",
    "eqs"
   ]
  },
  {
   "cell_type": "code",
   "execution_count": null,
   "metadata": {},
   "outputs": [],
   "source": [
    "a = sy.solvers.solve(eqs, w)\n",
    "a"
   ]
  },
  {
   "cell_type": "markdown",
   "metadata": {},
   "source": [
    "Assert that the sum of the weights has unity"
   ]
  },
  {
   "cell_type": "code",
   "execution_count": null,
   "metadata": {},
   "outputs": [],
   "source": [
    "s = 0.\n",
    "for i in range(N_mu): s += a[w[i]]\n",
    "sy.simplify(s)"
   ]
  },
  {
   "cell_type": "markdown",
   "metadata": {},
   "source": [
    "### Example of non-interacting left/right\n",
    "\n",
    "_The importance of having several numerical values for the same value._\n",
    "\n",
    "For certain junctions we cannot describe the density univocally for each electrode contribution\n",
    "\\begin{equation}\n",
    "\\DN^\\varsigma=\\DE^\\varsigma+\\iint_\\BZ \\cd \\E\\dd\\kk \\G_\\kk\\sumE_{\\idxE, \\varsigma_\\idxE\\neq\\varsigma}\\Scat_{\\idxE,\\kk}\n",
    "\\G^\\dagger_\\kk\\big[n_{F,\\idxE}(\\E)-n_{F,\\varsigma}(\\E)\\big]\n",
    "\\end{equation}"
   ]
  },
  {
   "cell_type": "markdown",
   "metadata": {},
   "source": [
    "We define a tight-binding model for a perfect 1D chain.  \n",
    "First create the electrode $H$, $V$ and $V^\\dagger$"
   ]
  },
  {
   "cell_type": "code",
   "execution_count": null,
   "metadata": {},
   "outputs": [],
   "source": [
    "t = .5\n",
    "V_el = np.diagflat([t],k=-1)\n",
    "H_el = V_el + V_el.T"
   ]
  },
  {
   "cell_type": "markdown",
   "metadata": {},
   "source": [
    "We create a device Hamiltonian with 6 sites (hence 5 off-diagonal elements)"
   ]
  },
  {
   "cell_type": "code",
   "execution_count": null,
   "metadata": {},
   "outputs": [],
   "source": [
    "H = np.diagflat(np.ones(5)*t,k=1)\n",
    "H = H + H.T\n",
    "fig, axs = plt.subplots(ncols=3,figsize=(6,6))\n",
    "matshow(axs[0],V_el.T.conj(),title='$V^\\dagger$')\n",
    "matshow(axs[1],H_el,title='Electrode Hamiltonian')\n",
    "matshow(axs[2],V_el,title='$V$')\n",
    "matshow(plt.subplots()[1],H,title='Device Hamiltonian');\n",
    "\n",
    "E = np.linspace(-2.5*t, 2.5*t, 200)"
   ]
  },
  {
   "cell_type": "code",
   "execution_count": null,
   "metadata": {},
   "outputs": [],
   "source": [
    "# Calculate the transmission\n",
    "T = vTrans(E, H, H_el, V_el)\n",
    "# Calculate the Green function using the vectorized function\n",
    "G = np.vstack(vGf(E, H, H_el, V_el)[0]) # transform to array, instead of list\n",
    "G.shape = (-1, len(H), len(H)) # vstack gobbles the first axis, recreate it\n",
    "DOS = - np.trace(G, axis1=1, axis2=2).imag / np.pi\n",
    "fig, axs = plt.subplots(ncols=2, figsize=(15,4))\n",
    "maxis(axs, xlbl='Energy [eV]')\n",
    "axs[0].plot(E, T)\n",
    "maxis(axs[0], ylbl='Transmission')\n",
    "axs[1].plot(E, np.array(DOS))\n",
    "maxis(axs[1], ylbl='Density of states')"
   ]
  },
  {
   "cell_type": "markdown",
   "metadata": {
    "collapsed": true
   },
   "source": [
    "We can repeat the above calculation for a broken linear chain. This will have zero transmission as there is no hopping integral between the left part and the right part. We also insert a bound state which corresponds to a lone atom."
   ]
  },
  {
   "cell_type": "code",
   "execution_count": null,
   "metadata": {},
   "outputs": [],
   "source": [
    "H = np.diagflat(np.ones(6)*t,k=1)\n",
    "H[2,3] = 0 ; H[3,4] = 0\n",
    "# Bound state at the Fermi-level\n",
    "H[3,3] = 0 # you can change the onsite energy here (try setting it to -t/3)\n",
    "H = H + H.T\n",
    "matshow(plt.subplots()[1],H);"
   ]
  },
  {
   "cell_type": "markdown",
   "metadata": {},
   "source": [
    "To show what `TranSIESTA` NEGF cannot capture we show a full NEGF calculation of a 1D chain with a lone atom in the middle (i.e. disconnected from both leads). "
   ]
  },
  {
   "cell_type": "code",
   "execution_count": null,
   "metadata": {},
   "outputs": [],
   "source": [
    "E = np.linspace(-2.5*t, 2.5*t, 250)\n",
    "AL = np.empty([2, len(E)]) ; AR = np.empty([2, len(E)])\n",
    "DOS = np.empty(len(E))\n",
    "# This calculates the DOS from the Green function\n",
    "# and the two spectral functions (A_L and A_R)\n",
    "for i,e in enumerate(E):\n",
    "    G,S1,S2 = Gf(e, H, H_el, V_el)\n",
    "    DOS[i] = - np.trace(G[2:5, 2:5].imag) / np.pi\n",
    "    A = Af(G, S1=S1)\n",
    "    AL[:,i] = A[(2,4), (2,4)].real / (2 * np.pi)\n",
    "    A = Af(G, S2=S2)\n",
    "    AR[:,i] = A[(2,4), (2,4)].real / (2 * np.pi)\n",
    "fig, axs = plt.subplots(ncols=3, figsize=(15,4))\n",
    "# Plot the spectral functions for both left and right part\n",
    "maxis(axs,xlbl='Energy [eV]', ylbl='DOS')\n",
    "maxis(axs[0], title='$A_{2,2}$') ; maxis(axs[1], title='$A_{4,4}$')\n",
    "anot_keys = {'arrowprops': {'facecolor':'black', 'shrink':0.02}}\n",
    "for i in range(2):\n",
    "    axs[i].plot(E, AL[i,:], E, AR[i,:])\n",
    "    axs[i].annotate('$A_'+['R', 'L'][i]+' = 0$', xy=(0,0), xytext=(0, .1), **anot_keys)\n",
    "    axs[i].annotate('$A_'+['L', 'R'][i]+'$', xy=(0,.6), xytext=(0, .5), **anot_keys)\n",
    "\n",
    "# Create the non equilibrium integrated DOS\n",
    "maxis(axs[2], ylb='DOS',\n",
    "      title='Non equilibrium density $A_{2,2}+A_{3,3}+A_{4,4}$',\n",
    "      xrng=[np.amin(E), t/2+0.2],yrng=[0, 2])\n",
    "# Define the two chemical potentials\n",
    "#  \\mu_L = +t/2 and \\mu_R = -t/2\n",
    "AL = np.sum(AL, axis=0) ; AR = np.sum(AR, axis=0)\n",
    "DL = DOS * nf(E-t/2) + AR * (nf(E+t/2)-nf(E-t/2))\n",
    "DR = DOS * nf(E+t/2) + AL * (nf(E-t/2)-nf(E+t/2))\n",
    "axs[2].plot(E, DOS * nf(E),'.', label='Eq.')\n",
    "axs[2].plot(E, DL, label='$+V/2$')\n",
    "axs[2].plot(E, DR, '.', label='$-V/2$')\n",
    "axs[2].legend(*axs[2].get_legend_handles_labels(),\n",
    "              bbox_to_anchor=(0., 1.12, 1., .102), ncol=3, borderaxespad=0.);"
   ]
  },
  {
   "cell_type": "markdown",
   "metadata": {},
   "source": [
    "In short, the spectral function will be zero for any states that cannot be reached from the leads. Notably this is significant when there are bound states which cannot be correctly captured in the bias window, in those cases will only one of the two capture the bound state (due to the equilibrium contour). It should be clear that the spectral function is the culprit.\n",
    "\n",
    "One could make the wrong assumption that one should _always_ choose the calculated density for the highest chemical potential where both $\\Spec_L=\\Spec_R=0$. This of course, is not generally correct."
   ]
  },
  {
   "cell_type": "markdown",
   "metadata": {},
   "source": [
    "### Showcase the Green function in the imaginary plane\n",
    "\n",
    "Here we show how the Green function for a pristine _and_ defected linear chain looks like in the complex plane."
   ]
  },
  {
   "cell_type": "code",
   "execution_count": null,
   "metadata": {},
   "outputs": [],
   "source": [
    "t = .5\n",
    "V_el = np.diagflat([t], k=-1)\n",
    "H_el = V_el + V_el.T\n",
    "H = np.diagflat(np.ones(3)*t, k=1)\n",
    "H = H + H.T + np.diagflat([0., 0.5, -0.5, 0.])\n",
    "Hc = np.copy(H)\n",
    "Hc[1,1] *= .6\n",
    "Hc[0,1] *= 1.5 ; Hc[1,0] *= 1.5\n",
    "Hc[1,2] *= 1.5 ; Hc[2,1] *= 1.5\n",
    "# Define complex space\n",
    "E = np.linspace(0,10*t, 100)\n",
    "Eta = np.linspace(0.0001, 30*t, 100)\n",
    "DOS = np.empty([2, len(Eta), len(E)])\n",
    "for j,eta in enumerate(Eta):\n",
    "    for i,e in enumerate(E):\n",
    "        G = Gf(e, H, H_el, V_el, eta=eta)[0]\n",
    "        DOS[0,j,i] = - np.trace(G.imag) / np.pi\n",
    "        G = Gf(e, Hc, H_el, V_el, eta=eta)[0]\n",
    "        DOS[1,j,i] = - np.trace(G.imag) / np.pi\n",
    "del G\n",
    "fig, axs = plt.subplots(ncols=2, figsize=(14,7))\n",
    "maxis(axs, title=r'DOS')\n",
    "maxis(axs, xlbl='Energy [eV]', xrng=[np.amin(E),np.amax(E)],\n",
    "      ylbl='Complex energy [eV]', yrng=[0,np.amax(Eta)])\n",
    "p = axs[0].pcolor(E,Eta,DOS[0], cmap = cm.viridis, vmin=0, vmax=1)\n",
    "p = axs[1].pcolor(E,Eta,DOS[1], cmap = cm.viridis, vmin=0, vmax=1)"
   ]
  },
  {
   "cell_type": "markdown",
   "metadata": {},
   "source": [
    "From the Green function plot in the complex plane it should be clear that to retain a smooth integrand one must lift the equilibrium contour well into the complex plane. Importantly the lift is controlled by an energy specification in `TranSIESTA` which makes it very easy to control the imaginary part of the equilibrium contour, despite changing the temperature."
   ]
  },
  {
   "cell_type": "markdown",
   "metadata": {
    "collapsed": true
   },
   "source": [
    "## Bloch theorem\n",
    "\n",
    "`TranSIESTA` implements simple expansion algorithms to take advantage of periodicities in the electrodes. In NEGF a large part of the execution time is spent on calculating the self-energies $\\SE$ of the electrodes. When the electrodes are bulk, and thus periodic, we can reduce the computation to that of a minimal set of Bloch states and expand those using Bloch theorem.\n",
    "\n",
    "In the following a small example of 1D expansion in a real-space grid is provided."
   ]
  },
  {
   "cell_type": "code",
   "execution_count": null,
   "metadata": {},
   "outputs": [],
   "source": [
    "# Our periodic function is a sine,\n",
    "# you can play with this function as long as it is\n",
    "# periodic in the interval [0,2*pi]\n",
    "def u(r,R,B,k):\n",
    "    \"\"\" Our unit-cell periodic potential \"\"\"\n",
    "    return np.sin(r * B) * np.exp(1j*(r*B*k))\n",
    "# Lattice vector (unit cell size and dX)\n",
    "X = 10.\n",
    "x = np.linspace(0,X,100)\n",
    "# Reciprocal lattice vector\n",
    "BX = 2 * np.pi / X\n",
    "fig, axs = plt.subplots(nrows=2,ncols=3,figsize=(10,5))\n",
    "maxis(axs[-1,:],xlbl='$x$')\n",
    "maxis(axs[0,0],ylbl='$u(x)$')\n",
    "# First print the x-periodic function\n",
    "for i,k in enumerate([0,1./2,1./3]):\n",
    "    reimplot(axs[0,i],x,u(x,X,BX,k))\n",
    "    if k == 0.: k = 1\n",
    "    maxis(axs[0,i],title=r'$\\lambda={0:.2f}$'.format(np.pi*2/(BX*k)))\n",
    "maxis(axs[1,0],ylbl=r'$u(x-R)$')\n",
    "for i,k in enumerate([0,1./2,1./3]):\n",
    "    reimplot(axs[1,i],x,u(x,X,BX,k)*np.exp(1j*(BX*k*X)))"
   ]
  },
  {
   "cell_type": "markdown",
   "metadata": {},
   "source": [
    "Note that the first and second plots match from top to bottom.\n",
    "\n",
    "We here show the full periodicity at two $\\kk$-points."
   ]
  },
  {
   "cell_type": "code",
   "execution_count": null,
   "metadata": {},
   "outputs": [],
   "source": [
    "xx = np.hstack((x,x+X))\n",
    "xxxx = np.hstack((xx,xx+2*X))\n",
    "fig, axs = plt.subplots(nrows=2,figsize=(16,4))\n",
    "maxis(axs[-1],xlbl='$x$')\n",
    "maxis(axs[0],ylbl='$\\lambda=10$')\n",
    "maxis(axs[1],ylbl='$\\lambda=20$')\n",
    "for i,k in enumerate([0,1./2]):\n",
    "    # Either create the full potential, or calculate the first unit-cell\n",
    "    # and translate by np.exp(1j*(BX*k*X*np.arange(1,4)))\n",
    "    v = u(xxxx,X,BX,k)\n",
    "    reimplot(axs[i],xxxx,v,label='\\psi(r,{0})'.format(str(Fraction(k))))\n",
    "    axs[i].legend(loc=4)"
   ]
  },
  {
   "cell_type": "markdown",
   "metadata": {},
   "source": [
    "What we have shown above is describing a state $\\psi(r,k)$ in a unit-cell $4$ times as big for 2 different $k$-points. The top plot shows a periodicity of $\\lambda=10$ and the lower shows a periodicity of $\\lambda=20$.\n",
    "\n",
    "However, the plotted wave functions are not all the periodic wave functions in that interval."
   ]
  },
  {
   "cell_type": "markdown",
   "metadata": {},
   "source": [
    "As an example we will start with a unit-cell with only 1 orbital. We then expand this system to a twice as large unit-cell, thus having two orbitals. We will denote each state individually in each of the two unit-cells thus having 4 different $\\psi$ functions dependent on the region and $k$."
   ]
  },
  {
   "cell_type": "code",
   "execution_count": null,
   "metadata": {},
   "outputs": [],
   "source": [
    "s1_0 = u(x,X,BX,0.)\n",
    "s1_R = u(x,X,BX,0.) * np.exp(1j*(BX*X*0)) # zero k-point (for consistency, it is 1)\n",
    "s2_0 = u(x,X,BX,1./2)\n",
    "s2_R = u(x,X,BX,1./2) * np.exp(1j*(BX*X/2))\n",
    "fig, ax = plt.subplots(figsize=(16,4))\n",
    "maxis(ax,xlbl='$x$') ; kwargs = {'linewidth' : 2.}\n",
    "l1_0 = reimplot(ax,x,s1_0,label='\\psi(r,0)',**kwargs)\n",
    "l2_0 = reimplot(ax,x,s2_0,label='\\psi(r,1/2)',**kwargs)\n",
    "l1_R = reimplot(ax,x+X,s1_R,label='\\psi(r+R,0)',**kwargs)\n",
    "l2_R = reimplot(ax,x+X,s2_R,label='\\psi(r+R,1/2)',**kwargs)\n",
    "l_0 = plt.legend(handles=[l1_0[0][0],l1_0[1][0],l2_0[0][0],l2_0[1][0]], loc=0)\n",
    "l_R = plt.legend(handles=[l1_R[0][0],l1_R[1][0],l2_R[0][0],l2_R[1][0]], loc=4)\n",
    "ax.add_artist(l_0) ; ax.add_artist(l_R) ;"
   ]
  },
  {
   "cell_type": "markdown",
   "metadata": {},
   "source": [
    "Note that the periodicity of these two states are both $2R$."
   ]
  },
  {
   "cell_type": "code",
   "execution_count": null,
   "metadata": {},
   "outputs": [],
   "source": [
    "def expand_u(u,x,X,k,N):\n",
    "    BX = 2 * np.pi / X\n",
    "    # First create N long x\n",
    "    xx = np.hstack([x+X*i for i in range(N)])\n",
    "    # Primary cell periodic function container\n",
    "    yy = [np.zeros_like(x,dtype=np.complex) for i in range(N)]\n",
    "    # Create expanded wave-function\n",
    "    for s in range(N): # loop over states\n",
    "        kk = float(s)/N + k\n",
    "        for i in range(N): # loop over unit-cell\n",
    "            yy[i] += u(x,X,BX,kk) * np.exp(1j*(BX*X*i*kk))\n",
    "    return xx, np.hstack(yy)\n",
    "fig, axs = plt.subplots(nrows=2,figsize=(16,4))\n",
    "maxis(axs[-1],xlbl='$x$') \n",
    "# Play with the last digit to try and expand other integer unit-cells\n",
    "reimplot(axs[0],*expand_u(u,x,X,0,2),label='\\psi(r\\in\\{0,2R\\},0)') ; axs[0].legend(loc=4)\n",
    "# Expansion also works for states at k. \n",
    "reimplot(axs[1],*expand_u(u,x,X,1./4,2),label='\\psi(r\\in\\{0,2R\\},1/4)'); axs[1].legend(loc=4) ;"
   ]
  },
  {
   "cell_type": "markdown",
   "metadata": {},
   "source": [
    "The above calculations explains how we can expand the Hamiltonian, overlap and self-energies by calculating them for a smaller unit-cell at $N$ $k$-points to expand them using Bloch theorem.\n",
    "\n",
    "As calculating the self-energies scales with inverting an $n\\times n$ matrix until convergence one will find that it is much faster to calculate the self-energies $N$ times for a $n/N \\times n/N$ matrix.  \n",
    "This below graph shows how many operations are saved for each inversion for fixed matrix size."
   ]
  },
  {
   "cell_type": "code",
   "execution_count": null,
   "metadata": {},
   "outputs": [],
   "source": [
    "Nfull = 10\n",
    "N = np.arange(1,Nfull+1)\n",
    "plt.plot(N,N ** 2) # (n*N)**3 / n ** 3 * N\n",
    "maxis(plt.gca(),xlbl='Repetitions',ylbl='Single matrix inversion speedup')"
   ]
  },
  {
   "cell_type": "markdown",
   "metadata": {},
   "source": [
    "Note that `TranSIESTA`/`TBtrans` implements a generic expansion algorithm which can expand in any directions needed, or several directions simultaneously.  \n",
    "In general: whenever periodicities can be used, __do so__!"
   ]
  }
 ],
 "metadata": {
  "kernelspec": {
   "display_name": "Python 3",
   "language": "python",
   "name": "python3"
  },
  "language_info": {
   "codemirror_mode": {
    "name": "ipython",
    "version": 3
   },
   "file_extension": ".py",
   "mimetype": "text/x-python",
   "name": "python",
   "nbconvert_exporter": "python",
   "pygments_lexer": "ipython3",
   "version": "3.8.5"
  }
 },
 "nbformat": 4,
 "nbformat_minor": 1
}
