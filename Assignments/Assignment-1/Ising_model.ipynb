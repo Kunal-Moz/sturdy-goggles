{
 "cells": [
  {
   "cell_type": "markdown",
   "metadata": {},
   "source": [
    "# 2-D Ising Model\n",
    "\n",
    "We will investigate the 2-d Ising model with Monte Carlo methods. Since there are many internal iterations, it is much faster to run in `C++` with `swig`. "
   ]
  },
  {
   "cell_type": "markdown",
   "metadata": {},
   "source": [
    "### Compile with swig"
   ]
  },
  {
   "cell_type": "code",
   "execution_count": 1,
   "metadata": {},
   "outputs": [
    {
     "name": "stdout",
     "output_type": "stream",
     "text": [
      "running build_ext\n",
      "building '_ising' extension\n",
      "x86_64-linux-gnu-gcc -pthread -Wno-unused-result -Wsign-compare -DNDEBUG -g -fwrapv -O2 -Wall -g -fstack-protector-strong -Wformat -Werror=format-security -g -fwrapv -O2 -g -fstack-protector-strong -Wformat -Werror=format-security -Wdate-time -D_FORTIFY_SOURCE=2 -fPIC -I/usr/include/python3.7m -c swig/ising_wrap.cxx -o build/temp.linux-x86_64-3.7/swig/ising_wrap.o -I./ -std=c++11 -O3\n",
      "x86_64-linux-gnu-gcc -pthread -Wno-unused-result -Wsign-compare -DNDEBUG -g -fwrapv -O2 -Wall -g -fstack-protector-strong -Wformat -Werror=format-security -g -fwrapv -O2 -g -fstack-protector-strong -Wformat -Werror=format-security -Wdate-time -D_FORTIFY_SOURCE=2 -fPIC -I/usr/include/python3.7m -c ising.cpp -o build/temp.linux-x86_64-3.7/ising.o -I./ -std=c++11 -O3\n",
      "x86_64-linux-gnu-g++ -pthread -shared -Wl,-O1 -Wl,-Bsymbolic-functions -Wl,-Bsymbolic-functions -Wl,-z,relro -Wl,-Bsymbolic-functions -Wl,-z,relro -g -fstack-protector-strong -Wformat -Werror=format-security -Wdate-time -D_FORTIFY_SOURCE=2 build/temp.linux-x86_64-3.7/swig/ising_wrap.o build/temp.linux-x86_64-3.7/ising.o -o /results/physics-assignment-1-Kunal-Moz-1/Assignment-1/_ising.cpython-37m-x86_64-linux-gnu.so\n"
     ]
    }
   ],
   "source": [
    "! swig -c++ -python swig/ising.i\n",
    "! python swig/setup_ising.py build_ext --inplace"
   ]
  },
  {
   "cell_type": "markdown",
   "metadata": {},
   "source": [
    "### Import from swig"
   ]
  },
  {
   "cell_type": "code",
   "execution_count": 2,
   "metadata": {},
   "outputs": [],
   "source": [
    "import sys\n",
    "import os\n",
    "sys.path.append( os.path.abspath(\"swig\") )\n",
    "import ising\n",
    "import numpy as np\n",
    "import matplotlib.pyplot as plt\n",
    "from scipy.optimize import curve_fit"
   ]
  },
  {
   "cell_type": "code",
   "execution_count": 3,
   "metadata": {},
   "outputs": [],
   "source": [
    "# Make the plots a bit bigger to see\n",
    "# NOTE: Must be done in a separate cell\n",
    "plt.rcParams['figure.dpi'] = 100"
   ]
  },
  {
   "cell_type": "markdown",
   "metadata": {},
   "source": [
    "## Initialize the system"
   ]
  },
  {
   "cell_type": "code",
   "execution_count": 4,
   "metadata": {},
   "outputs": [],
   "source": [
    "# #L = 50\n",
    "# J = 1.0\n",
    "# #N = 10\n",
    "# T = 2.0\n",
    "# H = 0.5\n",
    "# MCSteps = 1000\n"
   ]
  },
  {
   "cell_type": "markdown",
   "metadata": {},
   "source": [
    "## (a) Run simulations for various system sizes"
   ]
  },
  {
   "cell_type": "code",
   "execution_count": 5,
   "metadata": {},
   "outputs": [],
   "source": [
    "# eAvgVals = []\n",
    "# mAvgVals = []\n",
    "# Lvals = np.arange(10,110,10)\n",
    "# for L in Lvals:\n",
    "#     i = ising.Ising(J, int(L), T, H)\n",
    "#     i.run(MCSteps)\n",
    "#     mvals = i.get_mvals()\n",
    "#     plt.plot(mvals, label=(L))\n",
    "#     eAvgVals.append( i.get_eAvg() )\n",
    "#     mAvgVals.append( i.get_mAvg() )\n",
    "\n",
    "# plt.legend()\n",
    "# plt.ylim(-1,1)\n",
    "# plt.xlabel(\"MC Step\")\n",
    "# plt.ylabel(\"Average magnetization\")\n",
    "# plt.savefig(\"P2-1.pdf\")\n",
    "# plt.show()"
   ]
  },
  {
   "cell_type": "markdown",
   "metadata": {},
   "source": [
    "## (b) Run the simulations for various temperatures\n",
    "\n",
    "\n",
    "Also plot the average magnetization as a function of the MC step. "
   ]
  },
  {
   "cell_type": "code",
   "execution_count": 6,
   "metadata": {
    "scrolled": true
   },
   "outputs": [],
   "source": [
    "L = 40\n",
    "J = 1.0\n",
    "#N = 10\n",
    "T = 1.0\n",
    "H = 0.0\n",
    "MCSteps = 8000\n",
    "\n",
    "eAvgVals = []\n",
    "mAvgVals = []\n",
    "Hvals = np.arange(-5.0,5.0,0.1)\n",
    "Hvals = np.append(Hvals,Hvals[::-1])\n",
    "for H in Hvals:\n",
    "    i = ising.Ising(J, L, T, H)\n",
    "    i.run(MCSteps)\n",
    "    mvals = i.get_mvals()\n",
    "    #plt.plot(mvals, label=\"%3.2f\" % (T))\n",
    "    eAvgVals.append( i.get_eAvg() )\n",
    "    mAvgVals.append( i.get_mAvg() )\n",
    "\n",
    "#plt.legend()\n",
    "# plt.ylim(-1,1)\n",
    "# plt.xlabel(\"MC Step\")\n",
    "# plt.ylabel(\"Average magnetization\")\n",
    "# plt.show()"
   ]
  },
  {
   "cell_type": "markdown",
   "metadata": {},
   "source": [
    "### Plot average magnetization versus temperature"
   ]
  },
  {
   "cell_type": "code",
   "execution_count": 7,
   "metadata": {},
   "outputs": [],
   "source": [
    "def fit_func(T, Tc, b):\n",
    "    if T <= Tc:\n",
    "        return (1.0 - (np.sinh(2.0/T))**(-4) )**b\n",
    "    else:\n",
    "        return 0.0\n",
    "\n",
    "def fitfunc_vec_self(T, Tc, b):\n",
    "    y = np.zeros(T.shape)\n",
    "    for i in range(len(y)):\n",
    "        y[i]=fit_func(T[i],Tc,b)\n",
    "    return y\n"
   ]
  },
  {
   "cell_type": "code",
   "execution_count": 8,
   "metadata": {},
   "outputs": [
    {
     "data": {
      "image/png": "[encoded data removed]",
      "text/plain": [
       "<Figure size 600x400 with 1 Axes>"
      ]
     },
     "metadata": {
      "needs_background": "light"
     },
     "output_type": "display_data"
    }
   ],
   "source": [
    "xvals = Hvals\n",
    "yvals = mAvgVals\n",
    "# popt, pcov = curve_fit(fitfunc_vec_self, xvals, yvals, bounds=([2.0,0.09], [2.5,0.15]) )\n",
    "# print(r\"Estimate for T_c = \", popt[0])\n",
    "# print(r\"Estimate for beta = \", popt[1])\n",
    "plt.scatter(xvals, yvals , c= 'red', s= 1.0, label=r'\\langle m \\rangle')\n",
    "# plt.plot(xvals, fitfunc_vec_self(xvals, *popt), label = 'Fit')\n",
    "#plt.plot(xvals, fitfunc(xvals, *popt), label = 'Fit')\n",
    "plt.xlabel(\"Field\")\n",
    "plt.ylabel(\"Average Magnetization\")\n",
    "plt.savefig(\"P2-2.pdf\")\n",
    "plt.show()"
   ]
  },
  {
   "cell_type": "markdown",
   "metadata": {},
   "source": [
    "## (c) Average energy per spin"
   ]
  },
  {
   "cell_type": "code",
   "execution_count": 9,
   "metadata": {},
   "outputs": [
    {
     "ename": "NameError",
     "evalue": "name 'Tvals' is not defined",
     "output_type": "error",
     "traceback": [
      "\u001b[0;31m---------------------------------------------------------------------------\u001b[0m",
      "\u001b[0;31mNameError\u001b[0m                                 Traceback (most recent call last)",
      "\u001b[0;32m<ipython-input-9-b7eef1ec5e27>\u001b[0m in \u001b[0;36m<module>\u001b[0;34m\u001b[0m\n\u001b[1;32m      1\u001b[0m \u001b[0mEavgval\u001b[0m \u001b[0;34m=\u001b[0m \u001b[0mnp\u001b[0m\u001b[0;34m.\u001b[0m\u001b[0mabs\u001b[0m\u001b[0;34m(\u001b[0m\u001b[0meAvgVals\u001b[0m\u001b[0;34m)\u001b[0m\u001b[0;34m\u001b[0m\u001b[0;34m\u001b[0m\u001b[0m\n\u001b[0;32m----> 2\u001b[0;31m \u001b[0mplt\u001b[0m\u001b[0;34m.\u001b[0m\u001b[0mscatter\u001b[0m\u001b[0;34m(\u001b[0m\u001b[0mTvals\u001b[0m\u001b[0;34m,\u001b[0m \u001b[0mEavgval\u001b[0m \u001b[0;34m,\u001b[0m \u001b[0mc\u001b[0m\u001b[0;34m=\u001b[0m \u001b[0;34m'red'\u001b[0m\u001b[0;34m,\u001b[0m \u001b[0ms\u001b[0m\u001b[0;34m=\u001b[0m \u001b[0;36m1.0\u001b[0m\u001b[0;34m,\u001b[0m \u001b[0mlabel\u001b[0m\u001b[0;34m=\u001b[0m\u001b[0;34mr'\\langle E \\rangle'\u001b[0m\u001b[0;34m)\u001b[0m\u001b[0;34m\u001b[0m\u001b[0;34m\u001b[0m\u001b[0m\n\u001b[0m\u001b[1;32m      3\u001b[0m \u001b[0mplt\u001b[0m\u001b[0;34m.\u001b[0m\u001b[0mxlabel\u001b[0m\u001b[0;34m(\u001b[0m\u001b[0;34m\"Temperature\"\u001b[0m\u001b[0;34m)\u001b[0m\u001b[0;34m\u001b[0m\u001b[0;34m\u001b[0m\u001b[0m\n\u001b[1;32m      4\u001b[0m \u001b[0mplt\u001b[0m\u001b[0;34m.\u001b[0m\u001b[0mylabel\u001b[0m\u001b[0;34m(\u001b[0m\u001b[0;34mr'$\\langle E \\rangle$'\u001b[0m\u001b[0;34m)\u001b[0m\u001b[0;34m\u001b[0m\u001b[0;34m\u001b[0m\u001b[0m\n\u001b[1;32m      5\u001b[0m \u001b[0mplt\u001b[0m\u001b[0;34m.\u001b[0m\u001b[0msavefig\u001b[0m\u001b[0;34m(\u001b[0m\u001b[0;34m\"P2-3.pdf\"\u001b[0m\u001b[0;34m)\u001b[0m\u001b[0;34m\u001b[0m\u001b[0;34m\u001b[0m\u001b[0m\n",
      "\u001b[0;31mNameError\u001b[0m: name 'Tvals' is not defined"
     ]
    }
   ],
   "source": [
    "Eavgval = np.abs(eAvgVals)\n",
    "plt.scatter(Tvals, Eavgval , c= 'red', s= 1.0, label=r'\\langle E \\rangle')\n",
    "plt.xlabel(\"Temperature\")\n",
    "plt.ylabel(r'$\\langle E \\rangle$')\n",
    "plt.savefig(\"P2-3.pdf\")\n",
    "plt.show()"
   ]
  },
  {
   "cell_type": "code",
   "execution_count": null,
   "metadata": {},
   "outputs": [],
   "source": [
    "def find_Der(yvals, xvals):\n",
    "    ''' f     : name of function to be differentiated\n",
    "        x     : the point at which df/dx is required\n",
    "        h     : step size\n",
    "    '''\n",
    "    \n",
    "    nn = len(yvals)\n",
    "    dfdx = np.zeros(nn)\n",
    "    #for i in range(2,nn-2):\n",
    "        #dfdx[i+2] = ( yvals[i-2] - 8*yvals[i-1] + 8*yvals[i+1] - yvals[i+2]) / (12*(xvals[i+1] - xvals[i]) )\n",
    "    for i in range(0,nn-1):    \n",
    "        dfdx [i+1] = (yvals[i+1] -yvals[i])/(xvals[i+1] - xvals[i])\n",
    "    return dfdx\n"
   ]
  },
  {
   "cell_type": "code",
   "execution_count": null,
   "metadata": {},
   "outputs": [],
   "source": [
    "dEdT = find_Der(eAvgVals, Tvals)\n",
    "plt.scatter(Tvals, dEdT , c= 'red', s= 1.0)\n",
    "#plt.plot(Tvals,dEdT)\n",
    "plt.xlabel(\"Temperature\")\n",
    "plt.ylabel(r'$\\frac{d\\langle E \\rangle}{dT}$')\n",
    "plt.savefig(\"P2-4.pdf\")\n",
    "plt.show()"
   ]
  },
  {
   "cell_type": "code",
   "execution_count": null,
   "metadata": {},
   "outputs": [],
   "source": []
  }
 ],
 "metadata": {
  "kernelspec": {
   "display_name": "Python 3",
   "language": "python",
   "name": "python3"
  },
  "language_info": {
   "codemirror_mode": {
    "name": "ipython",
    "version": 3
   },
   "file_extension": ".py",
   "mimetype": "text/x-python",
   "name": "python",
   "nbconvert_exporter": "python",
   "pygments_lexer": "ipython3",
   "version": "3.7.5rc1"
  }
 },
 "nbformat": 4,
 "nbformat_minor": 2
}
