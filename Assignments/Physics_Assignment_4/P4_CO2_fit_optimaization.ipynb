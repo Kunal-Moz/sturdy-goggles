{
 "cells": [
  {
   "cell_type": "code",
   "execution_count": 1,
   "metadata": {},
   "outputs": [],
   "source": [
    "import numpy as np\n",
    "import matplotlib.pyplot as plt\n",
    "from read_co2 import read_co2\n",
    "from chi_sq_fit_poly import chi_square_fit_poly\n",
    "import math\n",
    "from scipy.optimize import fmin_bfgs"
   ]
  },
  {
   "cell_type": "markdown",
   "metadata": {},
   "source": [
    "## Previous estimate using the $\\chi^2$ polynomial fit"
   ]
  },
  {
   "cell_type": "code",
   "execution_count": 2,
   "metadata": {},
   "outputs": [
    {
     "name": "stdout",
     "output_type": "stream",
     "text": [
      "Some random stuff!!!\n",
      " Least squares fit of 720 data points\n",
      " -----------------------------------\n",
      "    a2 = 0.0126 \n",
      "    a1 = -48.4672 \n",
      "    a0 = 46997.2984 \n",
      " chi-square value :  5.040122311008971\n"
     ]
    }
   ],
   "source": [
    "x,y = read_co2('co2_mm_mlo.txt')\n",
    "\n",
    "n = len(y)   # number of data points\n",
    "\n",
    "err = np.ones(n)\n",
    "\n",
    "[af0, af1, af2, chi_sq] = chi_square_fit_poly(x,y,err)\n",
    "\n",
    "# Print out results\n",
    "print (' Least squares fit of', n, 'data points')\n",
    "print (' -----------------------------------')\n",
    "print (\"    a2 = {0:6.4f} \".format( af2))\n",
    "print (\"    a1 = {0:6.4f} \".format( af1))\n",
    "print (\"    a0 = {0:3.4f} \".format( af0))\n",
    "print (\" chi-square value : \", chi_sq/(n-3) )\n"
   ]
  },
  {
   "cell_type": "markdown",
   "metadata": {},
   "source": [
    "## $\\chi^2$ function and derivatives  "
   ]
  },
  {
   "cell_type": "code",
   "execution_count": 3,
   "metadata": {},
   "outputs": [],
   "source": [
    "def f(A):\n",
    "    a0 = A[0]\n",
    "    a1 = A[1]\n",
    "    a2 = A[2]\n",
    "    return np.sum(((y - a0 - a1*x - a2*x**2) / err)**2)\n",
    "\n",
    "def df(A) :\n",
    "    a0 = A[0]\n",
    "    a1 = A[1]\n",
    "    a2 = A[2]    \n",
    "    df0 = -2*np.sum( ((y - a0 - a1*x - a2*x**2) / err**2) )\n",
    "    df1 = -2*np.sum( ((y - a0 - a1*x - a2*x**2)*x / err**2) )\n",
    "    df2 = -2*np.sum( ((y - a0 - a1*x - a2*x**2)*(x**2) / err**2) )       \n",
    "    return np.array([df0,df1,df2])"
   ]
  },
  {
   "cell_type": "markdown",
   "metadata": {},
   "source": [
    "## Run BFGS Algorithm  "
   ]
  },
  {
   "cell_type": "code",
   "execution_count": 4,
   "metadata": {},
   "outputs": [
    {
     "name": "stdout",
     "output_type": "stream",
     "text": [
      "41333016362.16382\n",
      "Warning: Desired error not necessarily achieved due to precision loss.\n",
      "         Current function value: 3506.795746\n",
      "         Iterations: 8\n",
      "         Function evaluations: 146\n",
      "         Gradient evaluations: 134\n",
      "[ 4.69947620e+04 -4.84646545e+01  1.25759698e-02]\n",
      "[[ 1.00000000e-02  9.99999952e-03  6.79356200e-03  6.81272356e+03\n",
      "   2.17410332e+04  4.69947620e+04  4.69947620e+04  4.69947620e+04\n",
      "   4.69947620e+04]\n",
      " [ 2.00000000e+00  1.99999904e+00 -1.18803953e+00 -8.04161685e+00\n",
      "  -2.30594617e+01 -4.84646545e+01 -4.84646545e+01 -4.84646545e+01\n",
      "  -4.84646545e+01]\n",
      " [ 1.00000000e-03 -9.16311777e-04  6.86830785e-04  2.41037072e-03\n",
      "   6.18706339e-03  1.25759698e-02  1.25759698e-02  1.25759698e-02\n",
      "   1.25759698e-02]]\n",
      "(3, 9)\n"
     ]
    }
   ],
   "source": [
    "A0 = np.array([0.01,2.0,0.001])\n",
    "\n",
    "print(f(A0))\n",
    "\n",
    "def make_minimize_cb(path=[]):    \n",
    "    def minimize_cb(xk):\n",
    "        # note that we make a deep copy of xk\n",
    "        path.append(np.copy(xk))\n",
    "    return minimize_cb\n",
    "\n",
    "\n",
    "\n",
    "path = [A0]\n",
    "gtol = 1e-6\n",
    "res = fmin_bfgs(f=f, fprime=df, x0=A0, gtol=gtol, callback=make_minimize_cb(path))\n",
    "print (res)\n",
    "path = np.array(path).T\n",
    "print(path)\n",
    "print(path.shape)"
   ]
  },
  {
   "cell_type": "markdown",
   "metadata": {},
   "source": [
    "## Print final Output as above"
   ]
  },
  {
   "cell_type": "code",
   "execution_count": 5,
   "metadata": {},
   "outputs": [
    {
     "name": "stdout",
     "output_type": "stream",
     "text": [
      " BFGS evaluation of fit parameters for 720 data points\n",
      " -----------------------------------\n",
      "    a2 = 0.0126 \n",
      "    a1 = -48.4647 \n",
      "    a0 = 46994.7620 \n",
      " chi-square value :  4.890928515869838\n"
     ]
    }
   ],
   "source": [
    "# Print out results\n",
    "print (' BFGS evaluation of fit parameters for', n, 'data points')\n",
    "print (' -----------------------------------')\n",
    "print (\"    a2 = {0:6.4f} \".format( res[2]))\n",
    "print (\"    a1 = {0:6.4f} \".format( res[1]))\n",
    "print (\"    a0 = {0:3.4f} \".format( res[0]))\n",
    "print (\" chi-square value : \", f(res)/(n-3) )\n"
   ]
  }
 ],
 "metadata": {
  "kernelspec": {
   "display_name": "Python 3",
   "language": "python",
   "name": "python3"
  },
  "language_info": {
   "codemirror_mode": {
    "name": "ipython",
    "version": 3
   },
   "file_extension": ".py",
   "mimetype": "text/x-python",
   "name": "python",
   "nbconvert_exporter": "python",
   "pygments_lexer": "ipython3",
   "version": "3.7.5rc1"
  }
 },
 "nbformat": 4,
 "nbformat_minor": 2
}
