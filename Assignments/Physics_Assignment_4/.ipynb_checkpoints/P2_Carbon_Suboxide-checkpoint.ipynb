{
 "cells": [
  {
   "cell_type": "markdown",
   "metadata": {},
   "source": [
    "# Problem - 2   \n",
    "We solve for eigenmodes of the carbon suboxide molecule. Now the molecule is similar to a chain of linear oscillators with 2 distinct masses (for Carbon $m_C = 12$ and Oxygen $m_O = 16$) and $C-C$ bonds have a spring constant of $k$ and $C-O$ have spring constant $k$. So we can write the Langrangian of the system as :   \n",
    "\n",
    "$$\n",
    "L = \\frac{1}{2}M (\\dot{x_1}^2 + \\dot{x_5}^2) + \\frac{1}{2}m(\\dot{x_3}^2 + \\dot{x_4}^2 + \\dot{x_5}^2) - \\frac{1}{2}k\\left[(x_1 - x_2)^2 + (x_4 - x_5)^2 \\right] - \\frac{1}{2}K\\left[(x_2 - x_3)^2 + (x_3 - x_4)^2 \\right]\n",
    "$$\n",
    "\n",
    "Analytical form of the solution has been presented in the report. "
   ]
  },
  {
   "cell_type": "code",
   "execution_count": 1,
   "metadata": {},
   "outputs": [],
   "source": [
    "import numpy as np\n",
    "from scipy.linalg import eig"
   ]
  },
  {
   "cell_type": "markdown",
   "metadata": {},
   "source": [
    "## Mass Matrix"
   ]
  },
  {
   "cell_type": "code",
   "execution_count": 2,
   "metadata": {},
   "outputs": [
    {
     "data": {
      "text/plain": [
       "array([[16.,  0.,  0.,  0.,  0.],\n",
       "       [ 0., 12.,  0.,  0.,  0.],\n",
       "       [ 0.,  0., 12.,  0.,  0.],\n",
       "       [ 0.,  0.,  0., 12.,  0.],\n",
       "       [ 0.,  0.,  0.,  0., 16.]])"
      ]
     },
     "execution_count": 2,
     "metadata": {},
     "output_type": "execute_result"
    }
   ],
   "source": [
    "Mc = 12.0\n",
    "Mo = 16.0\n",
    "\n",
    "M = np.diag([Mo,Mc,Mc,Mc,Mo])\n",
    "M"
   ]
  },
  {
   "cell_type": "markdown",
   "metadata": {},
   "source": [
    "## Interaction Matrix"
   ]
  },
  {
   "cell_type": "code",
   "execution_count": 3,
   "metadata": {},
   "outputs": [
    {
     "data": {
      "text/plain": [
       "array([[ 1.14767e+03, -1.14767e+03,  0.00000e+00,  0.00000e+00,\n",
       "         0.00000e+00],\n",
       "       [-1.14767e+03,  1.14867e+03, -1.00000e+00,  0.00000e+00,\n",
       "         0.00000e+00],\n",
       "       [ 0.00000e+00, -1.00000e+00,  2.00000e+00, -1.00000e+00,\n",
       "         0.00000e+00],\n",
       "       [ 0.00000e+00,  0.00000e+00, -1.00000e+00,  1.14867e+03,\n",
       "        -1.14767e+03],\n",
       "       [ 0.00000e+00,  0.00000e+00,  0.00000e+00, -1.14767e+03,\n",
       "         1.14767e+03]])"
      ]
     },
     "execution_count": 3,
     "metadata": {},
     "output_type": "execute_result"
    }
   ],
   "source": [
    "kco = 1147.67\n",
    "kcc = 1.0\n",
    "K = np.array([\n",
    "    [ kco  , -kco      , 0.0       , 0.0            , 0.0    ],\n",
    "    [ -kco , kcc + kco , -kcc      , 0.0            , 0.0    ],\n",
    "    [  0.0 , -kcc      , 2*kcc     , -kcc           , 0.0    ],\n",
    "    [  0.0 , 0.0       , -kcc      , kcc + kco      , -kco   ],\n",
    "    [  0.0 , 0.0       , 0.0       , -kco           , kco    ]\n",
    "])\n",
    "K"
   ]
  },
  {
   "cell_type": "markdown",
   "metadata": {},
   "source": [
    "## Compute Eigenvalues and Eigenvectors"
   ]
  },
  {
   "cell_type": "code",
   "execution_count": 4,
   "metadata": {},
   "outputs": [],
   "source": [
    "omega,v = eig(K,M)"
   ]
  },
  {
   "cell_type": "code",
   "execution_count": 5,
   "metadata": {},
   "outputs": [
    {
     "name": "stdout",
     "output_type": "stream",
     "text": [
      "Eigen-frequencies :\n",
      "[2.02323318e-01 4.94694973e-15 1.67416218e+02 1.67416171e+02\n",
      " 3.57041251e-02]\n"
     ]
    }
   ],
   "source": [
    "print(\"Eigen-frequencies :\")\n",
    "print(omega.real)\n",
    "## Note : We do not have any imaginary values of the frequency but in case we want to check.\n",
    "#print(omega)"
   ]
  },
  {
   "cell_type": "code",
   "execution_count": 6,
   "metadata": {},
   "outputs": [
    {
     "name": "stdout",
     "output_type": "stream",
     "text": [
      "Normal modes :\n",
      "[[-1.97204174e-01 -4.47213596e-01  4.24128673e-01 -4.24128876e-01\n",
      "   5.00124456e-01]\n",
      " [-1.96647930e-01 -4.47213596e-01 -5.65786805e-01  5.65786795e-01\n",
      "   4.99875513e-01]\n",
      " [ 9.19173657e-01 -4.47213595e-01  5.63814970e-04 -2.08985335e-13\n",
      "   7.46780516e-14]\n",
      " [-1.96647930e-01 -4.47213595e-01 -5.65786806e-01 -5.65786794e-01\n",
      "  -4.99875513e-01]\n",
      " [-1.97204174e-01 -4.47213595e-01  4.24128674e-01  4.24128876e-01\n",
      "  -5.00124456e-01]]\n"
     ]
    }
   ],
   "source": [
    "print(\"Normal modes :\")\n",
    "print(v)"
   ]
  },
  {
   "cell_type": "code",
   "execution_count": null,
   "metadata": {},
   "outputs": [],
   "source": []
  }
 ],
 "metadata": {
  "kernelspec": {
   "display_name": "Python 3",
   "language": "python",
   "name": "python3"
  },
  "language_info": {
   "codemirror_mode": {
    "name": "ipython",
    "version": 3
   },
   "file_extension": ".py",
   "mimetype": "text/x-python",
   "name": "python",
   "nbconvert_exporter": "python",
   "pygments_lexer": "ipython3",
   "version": "3.7.5rc1"
  }
 },
 "nbformat": 4,
 "nbformat_minor": 2
}
