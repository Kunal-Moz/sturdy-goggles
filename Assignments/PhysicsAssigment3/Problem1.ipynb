{
 "cells": [
  {
   "cell_type": "markdown",
   "metadata": {},
   "source": [
    "# Calculating integrals"
   ]
  },
  {
   "cell_type": "code",
   "execution_count": 1,
   "metadata": {},
   "outputs": [],
   "source": [
    "import math\n",
    "import numpy as np\n",
    "import matplotlib.pyplot as plt\n",
    "from integrals import *\n",
    "from rootfinding import *\n",
    "\n",
    "# Make the plots a bit bigger to see\n",
    "# NOTE: Must be done in a separate cell\n",
    "plt.rcParams['figure.dpi'] = 150"
   ]
  },
  {
   "cell_type": "markdown",
   "metadata": {},
   "source": [
    "## First investigate simple trapezoidal and Simpson's (quadratic) summations for quadrature"
   ]
  },
  {
   "cell_type": "code",
   "execution_count": 2,
   "metadata": {},
   "outputs": [
    {
     "data": {
      "image/png": "[encoded data removed]",
      "text/plain": [
       "<Figure size 432x288 with 1 Axes>"
      ]
     },
     "metadata": {
      "needs_background": "light"
     },
     "output_type": "display_data"
    }
   ],
   "source": [
    "a = 0\n",
    "b = 1\n",
    "xvals = np.linspace(a,b,10000)\n",
    "f1 = np.exp(3*xvals)\n",
    "\n",
    "plt.xlabel(\"x\")\n",
    "plt.ylabel(\"y\")\n",
    "plt.plot(xvals,f1,label=\"f1(x) = Exp(3x)\")\n",
    "plt.legend()\n",
    "plt.show()"
   ]
  },
  {
   "cell_type": "markdown",
   "metadata": {},
   "source": [
    "Our function is given as : $f(x) = e^{3x}$.  \n",
    "Analytical result of the integration : $\\int_0^1 dx e^{3x} = \\frac{1}{3} (e^3 - 1) \\sim 6.36185$"
   ]
  },
  {
   "cell_type": "code",
   "execution_count": 3,
   "metadata": {},
   "outputs": [
    {
     "name": "stdout",
     "output_type": "stream",
     "text": [
      "Trapezoidal rule = 6.361845641539697\n",
      "Simpsons rule = 6.361845641062558\n"
     ]
    }
   ],
   "source": [
    "n1 = 100000 # Number of divisions for trapezoidal rule\n",
    "ans1 = trapezoid(lambda x:np.exp(3*x), a, b, n1)\n",
    "print ('Trapezoidal rule = ' + str(ans1))\n",
    "\n",
    "ans2 = simpson(lambda x:np.exp(3*x), a, b, n1)\n",
    "print ('Simpsons rule = ' + str(ans2))"
   ]
  },
  {
   "cell_type": "markdown",
   "metadata": {},
   "source": [
    "## Next investigate the adaptive trapezoidal quadrature"
   ]
  },
  {
   "cell_type": "code",
   "execution_count": 4,
   "metadata": {},
   "outputs": [
    {
     "name": "stdout",
     "output_type": "stream",
     "text": [
      "N = 2,  Integral = 10.542768461593834\n",
      "N = 2.0,  Integral = 7.512228765965949\n",
      "N = 4.0,  Integral = 6.657298346225774\n",
      "N = 8.0,  Integral = 6.436224369354567\n",
      "N = 16.0,  Integral = 6.380472949015574\n",
      "N = 32.0,  Integral = 6.366504513566256\n",
      "N = 64.0,  Integral = 6.3630104871335105\n",
      "N = 128.0,  Integral = 6.3621368605784285\n",
      "N = 256.0,  Integral = 6.361918446441433\n",
      "N = 512.0,  Integral = 6.361863842438524\n",
      "N = 1024.0,  Integral = 6.3618501914085\n",
      "Adaptive trapezoidal rule = 6.3618501914085\n"
     ]
    }
   ],
   "source": [
    "\n",
    "ans3 = adaptive_trapezoid(lambda x:np.exp(3*x), a, b, 0.00001, output=True)\n",
    "print ('Adaptive trapezoidal rule = ' + str(ans3))\n",
    "\n"
   ]
  },
  {
   "cell_type": "markdown",
   "metadata": {},
   "source": [
    "We find that the all three methods of computing integrals give a fairly acurate value of the integral. It takes absolutely no time to integrate in the first two methods. And in the adpative trapezoid method integral converges in 512 steps. "
   ]
  },
  {
   "cell_type": "markdown",
   "metadata": {},
   "source": [
    "# Root Finding"
   ]
  },
  {
   "cell_type": "markdown",
   "metadata": {},
   "source": [
    "## Root finding of the first function $f(x) = tan(x)$  \n",
    "Function has only one root at $x=0$ if $x \\in (-\\frac{\\pi}{2},\\frac{\\pi}{2})$"
   ]
  },
  {
   "cell_type": "code",
   "execution_count": 5,
   "metadata": {},
   "outputs": [
    {
     "data": {
      "image/png": "[encoded data removed]",
      "text/plain": [
       "<Figure size 432x288 with 1 Axes>"
      ]
     },
     "metadata": {
      "needs_background": "light"
     },
     "output_type": "display_data"
    }
   ],
   "source": [
    "#### Function 1 : \n",
    "#### f(x) = tan(x)\n",
    "a = -np.pi/3\n",
    "b = np.pi/3\n",
    "xvals = np.linspace(a,b,10000)\n",
    "yvals = np.tan(xvals)\n",
    "\n",
    "plt.xlabel(\"x\")\n",
    "plt.ylabel(\"y\")\n",
    "plt.plot(xvals,yvals,label=\"f1(x) = Tan(x)\")\n",
    "plt.legend()\n",
    "plt.show()\n"
   ]
  },
  {
   "cell_type": "markdown",
   "metadata": {},
   "source": [
    "## Algorithms : Simple Search and Bisection"
   ]
  },
  {
   "cell_type": "code",
   "execution_count": 6,
   "metadata": {},
   "outputs": [
    {
     "name": "stdout",
     "output_type": "stream",
     "text": [
      " 1. Simple search\n",
      "\n",
      " ROOT FINDING using Simple Search with Step Halving\n",
      " Requested accuracy = 1e-05\n",
      " Step     Guess For Root          Step Size           Function Value\n",
      " ----  --------------------  --------------------  --------------------\n",
      "    0  0.0                   0.01                  0.0                 \n",
      " 2. Bisection search\n",
      "\n",
      " ROOT FINDING using Bisection Search\n",
      " Requested accuracy = 1e-05\n",
      " Step     Guess For Root          Step Size           Function Value\n",
      " ----  --------------------  --------------------  --------------------\n",
      "    0  0.0                   2.0943951023931953    0.0                 \n",
      "    1  0.0                   0.0                   0.0                 \n"
     ]
    }
   ],
   "source": [
    "print(\" 1. Simple search\")\n",
    "xmid = (a+b)*0.5\n",
    "dx = 0.01\n",
    "acc = 1e-5\n",
    "label1='simple'\n",
    "f = np.tan\n",
    "answer1,iterations1 = root_simple(f, xmid, dx, acc,1000,True)\n",
    "\n",
    "print(\" 2. Bisection search\")\n",
    "acc = 1e-5\n",
    "label2='bisection'\n",
    "answer2,iterations2 = root_bisection(f, a, b, acc,1000,True)\n"
   ]
  },
  {
   "cell_type": "markdown",
   "metadata": {},
   "source": [
    "We compute the number of iterations it take for the function to reach the roots. However we find that if the interval is symmetric both methods yeild correct roots in almost one interations. So I made the interval asymmetric along Y-axis. Following cell demonstrates out results. "
   ]
  },
  {
   "cell_type": "code",
   "execution_count": 7,
   "metadata": {},
   "outputs": [
    {
     "name": "stdout",
     "output_type": "stream",
     "text": [
      " 1. Simple search\n",
      "\n",
      " ROOT FINDING using Simple Search with Step Halving\n",
      " Requested accuracy = 1e-05\n",
      " Step     Guess For Root          Step Size           Function Value\n",
      " ----  --------------------  --------------------  --------------------\n",
      "    0  0.13089969389957468   0.01                  0.1316524975873958  \n",
      "    1  0.14089969389957469   0.01                  0.141839572498585   \n",
      "    2  0.1508996938995747    0.01                  0.15205558803072933 \n",
      "    3  0.1608996938995747    0.01                  0.16230271995929477 \n",
      "    4  0.1708996938995747    0.01                  0.1725831698220546  \n",
      "    5  0.18089969389957472   0.01                  0.18289916687067892 \n",
      "    6  0.19089969389957473   0.01                  0.19325297007196762 \n",
      "    7  0.20089969389957474   0.01                  0.20364687016266173 \n",
      "    8  0.21089969389957475   0.01                  0.21408319176193508 \n",
      "    9  0.22089969389957476   0.01                  0.22456429554585264 \n",
      "   10  0.23089969389957476   0.01                  0.23509258048827777 \n",
      "   11  0.24089969389957477   0.01                  0.24567048617292664 \n",
      "   12  0.2508996938995748    0.01                  0.25630049518149856 \n",
      "   13  0.2608996938995748    0.01                  0.2669851355630614  \n",
      "   14  0.2708996938995748    0.01                  0.2777269833901421  \n",
      "   15  0.2808996938995748    0.01                  0.28852866540726124 \n",
      "   16  0.2908996938995748    0.01                  0.2993928617779671  \n",
      "   17  0.3008996938995748    0.01                  0.31032230893676244 \n",
      "   18  0.31089969389957484   0.01                  0.3213198025526794  \n",
      "   19  0.32089969389957484   0.01                  0.3323882006116548  \n",
      "   20  0.33089969389957485   0.01                  0.343530426625278   \n",
      "   21  0.34089969389957486   0.01                  0.3547494729739411  \n",
      "   22  0.35089969389957487   0.01                  0.3660484043929127  \n",
      "   23  0.3608996938995749    0.01                  0.3774303616103852  \n",
      "   24  0.3708996938995749    0.01                  0.3888985651471173  \n",
      "   25  0.3808996938995749    0.01                  0.4004563192879087  \n",
      "   26  0.3908996938995749    0.01                  0.41210701623580787 \n",
      "   27  0.4008996938995749    0.01                  0.42385414046067027 \n",
      "   28  0.4108996938995749    0.01                  0.43570127325445834 \n",
      "   29  0.42089969389957493   0.01                  0.44765209750650864 \n",
      "   30  0.43089969389957494   0.01                  0.4597104027128951  \n",
      "   31  0.44089969389957495   0.01                  0.47188009023499145 \n",
      "   32  0.45089969389957496   0.01                  0.4841651788233927  \n",
      "   33  0.46089969389957497   0.01                  0.4965698104244941  \n",
      "   34  0.470899693899575     0.01                  0.5090982562882654  \n",
      "   35  0.480899693899575     0.01                  0.5217549233970944  \n",
      "   36  0.490899693899575     0.01                  0.534544361237027   \n",
      "   37  0.500899693899575     0.01                  0.5474712689343041  \n",
      "   38  0.510899693899575     0.01                  0.5605405027818069  \n",
      "   39  0.520899693899575     0.01                  0.5737570841818767  \n",
      "   40  0.530899693899575     0.01                  0.5871262080339927  \n",
      "   41  0.540899693899575     0.01                  0.6006532515979911  \n",
      "   42  0.550899693899575     0.01                  0.6143437838658897  \n",
      "   43  0.5608996938995751    0.01                  0.6282035754779958  \n",
      "   44  0.5708996938995751    0.01                  0.6422386092218043  \n",
      "   45  0.5808996938995751    0.01                  0.6564550911552962  \n",
      "   46  0.5908996938995751    0.01                  0.6708594623996248  \n",
      "   47  0.6008996938995751    0.01                  0.6854584116498781  \n",
      "   48  0.6108996938995751    0.01                  0.700258888456646   \n",
      "   49  0.6208996938995751    0.01                  0.7152681173355494  \n",
      "   50  0.6308996938995751    0.01                  0.7304936127667404  \n",
      "   51  0.6408996938995751    0.01                  0.7459431951517045  \n",
      "   52  0.6508996938995751    0.01                  0.7616250078005394  \n",
      "   53  0.6608996938995751    0.01                  0.7775475350293054  \n",
      "   54  0.6708996938995752    0.01                  0.793719621454107   \n",
      "   55  0.6808996938995752    0.01                  0.8101504925763481  \n",
      "   56  0.6908996938995752    0.01                  0.8268497767621704  \n",
      "   57  0.7008996938995752    0.01                  0.8438275287285586  \n",
      "   58  0.7108996938995752    0.01                  0.8610942546590398  \n",
      "   59  0.7208996938995752    0.01                  0.8786609390834719  \n",
      "   60  0.7308996938995752    0.01                  0.8965390736692166  \n",
      "   61  0.7408996938995752    0.01                  0.9147406880851763  \n",
      "   62  0.7508996938995752    0.01                  0.9332783831159284  \n",
      "   63  0.7608996938995752    0.01                  0.9521653662206833  \n",
      "   64  0.7708996938995752    0.01                  0.97141548975126    \n",
      "   65  0.7808996938995753    0.01                  0.9910432920649588  \n",
      "   66  0.7908996938995753    0.01                  1.0110640417923966  \n",
      "   67  0.8008996938995753    0.01                  1.0314937855473878  \n",
      "   68  0.8108996938995753    0.01                  1.0523493993961675  \n",
      "   69  0.8208996938995753    0.01                  1.0736486444370943  \n",
      "   70  0.8308996938995753    0.01                  1.0954102268799333  \n",
      "   71  0.8408996938995753    0.01                  1.1176538630564548  \n",
      "   72  0.8508996938995753    0.01                  1.1404003498420547  \n",
      "   73  0.8608996938995753    0.01                  1.163671641022162   \n",
      "   74  0.8708996938995753    0.01                  1.1874909301981875  \n",
      "   75  0.8808996938995753    0.01                  1.2118827408967507  \n",
      "   76  0.8908996938995754    0.01                  1.2368730246239874  \n",
      "   77  0.9008996938995754    0.01                  1.2624892676953459  \n",
      "   78  0.9108996938995754    0.01                  1.2887606077719256  \n",
      "   79  0.9208996938995754    0.01                  1.3157179611490308  \n",
      "   80  0.9308996938995754    0.01                  1.3433941619733192  \n",
      "   81  0.9408996938995754    0.01                  1.371824114714343   \n",
      "   82  0.9508996938995754    0.01                  1.401044961387361   \n",
      "   83  0.9608996938995754    0.01                  1.4310962652206436  \n",
      "   84  0.9708996938995754    0.01                  1.462020212686289   \n",
      "   85  0.9808996938995754    0.01                  1.493861836073817   \n",
      "   86  0.9908996938995754    0.01                  1.5266692590864377  \n",
      "   87  1.0008996938995753    0.01                  1.560493968288012   \n",
      "   88  1.0108996938995753    0.01                  1.5953911136327878  \n",
      "   89  1.0208996938995754    0.01                  1.6314198417802026  \n",
      "   90  1.0308996938995754    0.01                  1.668643666445633   \n",
      "   91  1.0408996938995754    0.01                  1.7071308806797267  \n",
      "   92  1.0508996938995754    0.01                  1.74695501672182    \n",
      "   93  1.0608996938995754    0.01                  1.7881953599586773  \n",
      "   94  1.0708996938995754    0.01                  1.8309375245650097  \n",
      "   95  1.0808996938995754    0.01                  1.8752740996394455  \n",
      "   96  1.0908996938995754    0.01                  1.9213053761188954  \n",
      "   97  1.1008996938995754    0.01                  1.9691401665049137  \n",
      "   98  1.1108996938995754    0.01                  2.0188967315289292  \n",
      "   99  1.1208996938995754    0.01                  2.0707038303952316  \n",
      "  100  1.1308996938995755    0.01                  2.124701914266559   \n",
      "  101  1.1408996938995755    0.01                  2.1810444863165883  \n",
      "  102  1.1508996938995755    0.01                  2.239899656117434   \n",
      "  103  1.1608996938995755    0.01                  2.3014519215497957  \n",
      "  104  1.1708996938995755    0.01                  2.3659042180626324  \n",
      "  105  1.1808996938995755    0.01                  2.433480283281025   \n",
      "  106  1.1908996938995755    0.01                  2.5044273950686007  \n",
      "  107  1.2008996938995755    0.01                  2.5790195537179534  \n",
      "  108  1.2108996938995755    0.01                  2.657561194652206   \n",
      "  109  1.2208996938995755    0.01                  2.740391537771396   \n",
      "  110  1.2308996938995755    0.01                  2.827889704557605   \n",
      "  111  1.2408996938995756    0.01                  2.920480765847888   \n",
      "  112  1.2508996938995756    0.01                  3.0186429239244807  \n",
      "  113  1.2608996938995756    0.01                  3.1229160851439923  \n",
      "  114  1.2708996938995756    0.01                  3.2339121476766284  \n",
      "  115  1.2808996938995756    0.01                  3.3523274184952494  \n",
      "  116  1.2908996938995756    0.01                  3.4789576921234135  \n",
      "  117  1.3008996938995756    0.01                  3.614716681492479   \n",
      "  118  1.3108996938995756    0.01                  3.7606587037577155  \n",
      "  119  1.3208996938995756    0.01                  3.9180068129548626  \n",
      "  120  1.3308996938995756    0.01                  4.088187968843569   \n",
      "  121  1.3408996938995756    0.01                  4.27287738434885    \n",
      "  122  1.3508996938995756    0.01                  4.4740549734364965  \n",
      "  123  1.3608996938995757    0.01                  4.694077934886899   \n",
      "  124  1.3708996938995757    0.01                  4.935775122452194   \n",
      "  125  1.3808996938995757    0.01                  5.202571232328258   \n",
      "  126  1.3908996938995757    0.01                  5.498652410226836   \n",
      "  127  1.4008996938995757    0.01                  5.82919034355394    \n",
      "  128  1.4108996938995757    0.01                  6.200650442469767   \n",
      "  129  1.4208996938995757    0.01                  6.621223378368831   \n",
      "  130  1.4308996938995757    0.01                  7.101441704063776   \n",
      "  131  1.4408996938995757    0.01                  7.6550812943572915  \n",
      "  132  1.4508996938995757    0.01                  8.300513895468281   \n",
      "  133  1.4608996938995757    0.01                  9.062798122596257   \n",
      "  134  1.4708996938995758    0.01                  9.9770263541925     \n",
      "  135  1.4808996938995758    0.01                  11.093905454665194  \n",
      "  136  1.4908996938995758    0.01                  12.489528454182501  \n",
      "  137  1.5008996938995758    0.01                  14.283534340496642  \n",
      "  138  1.5108996938995758    0.01                  16.675458981975467  \n",
      "  139  1.5208996938995758    0.01                  20.02479752481144   \n",
      "  140  1.5308996938995758    0.01                  25.05147153324733   \n",
      "  141  1.5408996938995758    0.01                  33.438616633723456  \n",
      "  142  1.5508996938995758    0.01                  50.25312790917193   \n",
      "  143  1.5608996938995758    0.01                  101.04116850476768  \n",
      "  144  1.5608996938995758    0.005                 -9674.25758457369   \n",
      "  145  1.5658996938995757    0.005                 204.2203344679749   \n",
      "  146  1.5658996938995757    0.0025                -9674.257584594472  \n",
      "  147  1.5683996938995757    0.0025                417.2512558494867   \n",
      "  148  1.5683996938995757    0.00125               -9674.257584594472  \n",
      "  149  1.5696496938995756    0.00125               872.1183264713261   \n",
      "  150  1.5696496938995756    0.000625              -9674.257584594472  \n",
      "  151  1.5702746938995757    0.000625              1917.0568387650753  \n",
      "  152  1.5702746938995757    0.0003125             -9674.25758457369   \n",
      "  153  1.5705871938995757    0.0003125             4781.64845318354    \n",
      "  154  1.5705871938995757    0.00015625            -9674.257584594472  \n",
      "  155  1.5707434438995758    0.00015625            18909.705926661638  \n",
      "  156  1.5707434438995758    7.8125e-05            -9674.25758457369   \n",
      "  157  1.5707434438995758    3.90625e-05           -39616.34786407601  \n",
      "  158  1.5707825063995757    3.90625e-05           72356.83037407447   \n",
      "  159  1.5707825063995757    1.953125e-05          -39616.34786407601  \n",
      "  160  1.5707825063995757    9.765625e-06          -175105.13857939464 \n",
      " 2. Bisection search\n",
      "\n",
      " ROOT FINDING using Bisection Search\n",
      " Requested accuracy = 1e-05\n",
      " Step     Guess For Root          Step Size           Function Value\n",
      " ----  --------------------  --------------------  --------------------\n",
      "    0  0.13089969389957468   1.832595714594046     0.1316524975873958  \n",
      "    1  -0.3272492347489368   0.916297857297023     -0.3394542588633758 \n",
      "    2  -0.09817477042468106  0.4581489286485115    -0.09849140335716428\n",
      "    3  0.016362461737446807  0.22907446432425574   0.01636392213531155 \n",
      "    4  -0.04090615434361713  0.11453723216212787   -0.040928985898408196\n",
      "    5  -0.01227184630308516  0.057268616081063935  -0.012272462379566307\n",
      "    6  0.002045307717180823  0.028634308040531967  0.0020453105692197116\n",
      "    7  -0.005113269292952169  0.014317154020265984  -0.00511331385645129\n",
      "    8  -0.0015339807878856728  0.007158577010132992  -0.001533981991088698\n",
      "    9  0.00025566346464757513  0.003579288505066496  0.0002556634702179544\n",
      "   10  -0.0006391586616190488  0.001789644252533248  -0.0006391587486562371\n",
      "   11  -0.00019174759848573686  0.000894822126266624  -0.0001917476008357406\n",
      "   12  3.1957933080919136e-05  0.000447411063133312  3.195793309179878e-05\n",
      "   13  -7.989483270240886e-05  0.000223705531566656  -7.989483287240335e-05\n",
      "   14  -2.3968449810744863e-05  0.000111852765783328  -2.3968449815334714e-05\n",
      "   15  3.994741635087136e-06  5.5926382891664e-05   3.994741635108386e-06\n",
      "   16  -9.986854087828863e-06  2.7963191445832e-05   -9.986854088160883e-06\n",
      "   17  -2.9960562263708634e-06  1.3981595722916e-05   -2.996056226379828e-06\n",
      "   18  4.993427043581365e-07  6.990797861458e-06    4.99342704358178e-07\n"
     ]
    }
   ],
   "source": [
    "a = -np.pi/4\n",
    "b = np.pi/3\n",
    "print(\" 1. Simple search\")\n",
    "xmid = (a+b)*0.5\n",
    "dx = 0.01\n",
    "acc = 1e-5\n",
    "label1='simple'\n",
    "f = np.tan\n",
    "answer1,iterations1 = root_simple(f, xmid, dx, acc,1000,True)\n",
    "\n",
    "print(\" 2. Bisection search\")\n",
    "acc = 1e-5\n",
    "label2='bisection'\n",
    "answer2,iterations2 = root_bisection(f, a, b, acc,1000,True)\n"
   ]
  },
  {
   "cell_type": "code",
   "execution_count": null,
   "metadata": {},
   "outputs": [],
   "source": [
    "  \n",
    "# print(\" 2. Newton-Ralphson method\")\n",
    "# acc = 1e-7\n",
    "# label2='Newton-Ralphson'\n",
    "# root_tangent(f, fp, x0, accuracy=1.0e-6, max_steps=20, root_debug=False)"
   ]
  },
  {
   "cell_type": "markdown",
   "metadata": {},
   "source": [
    "I find that the Bisection Method gives a more accute value of the root. "
   ]
  },
  {
   "cell_type": "markdown",
   "metadata": {},
   "source": [
    "## Root finding for the second function : $f(x) = tanh(x)$  \n",
    "Function has only one root $x=0$."
   ]
  },
  {
   "cell_type": "code",
   "execution_count": 8,
   "metadata": {},
   "outputs": [
    {
     "data": {
      "image/png": "[encoded data removed]",
      "text/plain": [
       "<Figure size 432x288 with 1 Axes>"
      ]
     },
     "metadata": {
      "needs_background": "light"
     },
     "output_type": "display_data"
    }
   ],
   "source": [
    "#### Function 2 : \n",
    "#### f(x) = tanh(x)\n",
    "a = -4.2\n",
    "b = 4\n",
    "xvals = np.linspace(a,b,10000)\n",
    "yvals = np.tanh(xvals)\n",
    "\n",
    "plt.xlabel(\"x\")\n",
    "plt.ylabel(\"y\")\n",
    "plt.plot(xvals,yvals,label=\"f2(x) = Tanh(x)\")\n",
    "plt.legend()\n",
    "plt.show()\n"
   ]
  },
  {
   "cell_type": "code",
   "execution_count": 9,
   "metadata": {},
   "outputs": [
    {
     "name": "stdout",
     "output_type": "stream",
     "text": [
      " 1. Simple search\n",
      "\n",
      " ROOT FINDING using Simple Search with Step Halving\n",
      " Requested accuracy = 1e-07\n",
      " Step     Guess For Root          Step Size           Function Value\n",
      " ----  --------------------  --------------------  --------------------\n",
      "    0  -0.10000000000000009  0.01                  -0.0996679946249559 \n",
      "    1  -0.0900000000000001   0.01                  -0.0897577847471602 \n",
      "    2  -0.0800000000000001   0.01                  -0.07982976911113146\n",
      "    3  -0.0700000000000001   0.01                  -0.0698858903164291 \n",
      "    4  -0.0600000000000001   0.01                  -0.0599281035291436 \n",
      "    5  -0.0500000000000001   0.01                  -0.049958374957880074\n",
      "    6  -0.0400000000000001   0.01                  -0.03997868031116367\n",
      "    7  -0.030000000000000096  0.01                  -0.02999100323882024\n",
      "    8  -0.020000000000000094  0.01                  -0.019997333759931023\n",
      "    9  -0.010000000000000094  0.01                  -0.009999666679999554\n",
      "   10  -9.367506770274758e-17  0.01                  -9.367506770274758e-17\n",
      "   11  -9.367506770274758e-17  0.005                 0.009999666679999367\n",
      "   12  -9.367506770274758e-17  0.0025                0.004999958333749902\n",
      "   13  -9.367506770274758e-17  0.00125               0.002499994791679594\n",
      "   14  -9.367506770274758e-17  0.000625              0.0012499993489586464\n",
      "   15  -9.367506770274758e-17  0.0003125             0.0006249999186197108\n",
      "   16  -9.367506770274758e-17  0.00015625            0.0003124999898273807\n",
      "   17  -9.367506770274758e-17  7.8125e-05            0.0001562499987283406\n",
      "   18  -9.367506770274758e-17  3.90625e-05           7.812499984096061e-05\n",
      "   19  -9.367506770274758e-17  1.953125e-05          3.906249998003811e-05\n",
      "   20  -9.367506770274758e-17  9.765625e-06          1.9531249997422798e-05\n",
      "   21  -9.367506770274758e-17  4.8828125e-06         9.765624999595884e-06\n",
      "   22  -9.367506770274758e-17  2.44140625e-06        4.882812499867521e-06\n",
      "   23  -9.367506770274758e-17  1.220703125e-06       2.4414062499014744e-06\n",
      "   24  -9.367506770274758e-17  6.103515625e-07       1.2207031249057187e-06\n",
      "   25  -9.367506770274758e-17  3.0517578125e-07      6.103515624062492e-07\n",
      "   26  -9.367506770274758e-17  1.52587890625e-07     3.051757811563155e-07\n",
      "   27  -9.367506770274758e-17  7.62939453125e-08     1.5258789053132374e-07\n",
      " 2. Bisection search\n",
      "\n",
      " ROOT FINDING using Bisection Search\n",
      " Requested accuracy = 1e-07\n",
      " Step     Guess For Root          Step Size           Function Value\n",
      " ----  --------------------  --------------------  --------------------\n",
      "    0  -0.10000000000000009  8.2                   -0.0996679946249559 \n",
      "    1  1.95                  4.1                   0.960319388531845   \n",
      "    2  0.9249999999999999    2.05                  0.7282542059818115  \n",
      "    3  0.4124999999999999    1.025                 0.3905933386951307  \n",
      "    4  0.15624999999999992   0.5125                0.15499073037162342 \n",
      "    5  0.028124999999999914  0.25625               0.028117586574160972\n",
      "    6  -0.03593750000000009  0.128125              -0.03592203684769598\n",
      "    7  -0.003906250000000087  0.0640625             -0.003906230131906427\n",
      "    8  0.012109374999999914  0.03203125            0.012108783140724435\n",
      "    9  0.0041015624999999134  0.016015625           0.004101539500212379\n",
      "   10  9.765624999991335e-05  0.0080078125          9.765624968947248e-05\n",
      "   11  -0.0019042968750000867  0.00400390625         -0.0019042945731232671\n",
      "   12  -0.0009033203125000867  0.002001953125        -0.0009033200668007794\n",
      "   13  -0.00040283203125008666  0.0010009765625       -0.000402832009460414\n",
      "   14  -0.00015258789062508665  0.00050048828125      -0.00015258788944084875\n",
      "   15  -2.7465820312586652e-05  0.000250244140625     -2.7465820305680176e-05\n",
      "   16  3.509521484366335e-05  0.0001251220703125    3.509521482925472e-05\n",
      "   17  3.8146972655383485e-06  6.256103515625e-05    3.814697265519845e-06\n",
      "   18  -1.1825561523524152e-05  3.1280517578125e-05   -1.1825561522972908e-05\n",
      "   19  -4.005432128992902e-06  1.56402587890625e-05  -4.005432128971481e-06\n",
      "   20  -9.536743172727656e-08  7.82012939453125e-06  -9.536743172727626e-08\n",
      "   21  1.859664916905536e-06  3.910064697265625e-06  1.8596649169033924e-06\n",
      "   22  8.821487425891297e-07  1.9550323486328123e-06  8.82148742588901e-07\n",
      "   23  3.933906554309266e-07  9.775161743164062e-07  3.9339065543090625e-07\n",
      "   24  1.49011611851825e-07  4.887580871582031e-07  1.490116118518239e-07\n",
      "   25  2.682209006227423e-08  2.4437904357910154e-07  2.6822090062274222e-08\n",
      "   26  -3.427267083250116e-08  1.2218952178955077e-07  -3.427267083250115e-08\n",
      "   27  -3.725290385113467e-09  6.109476089477539e-08  -3.725290385113467e-09\n"
     ]
    }
   ],
   "source": [
    "print(\" 1. Simple search\")\n",
    "xmid = (a+b)*0.5\n",
    "dx = 0.01\n",
    "acc = 1e-7\n",
    "label1='simple'\n",
    "f = np.tanh\n",
    "answer1,iterations1 = root_simple(f, xmid, dx, acc,100000,True)\n",
    "\n",
    "print(\" 2. Bisection search\")\n",
    "acc = 1e-7\n",
    "label2='bisection'\n",
    "answer2,iterations2 = root_bisection(f, a, b, acc,100000,True)\n"
   ]
  },
  {
   "cell_type": "markdown",
   "metadata": {},
   "source": [
    "Both bisection method gives a fairly accurate value of the root. Note that the interval to compute the root is slightly asymmetric. If we make if symmetric we get the exact value of the root both algorithms. \n"
   ]
  },
  {
   "cell_type": "code",
   "execution_count": 10,
   "metadata": {},
   "outputs": [],
   "source": [
    "# fp = 1 - \n",
    "# print(\" 2. Newton-Ralphson method\")\n",
    "# acc = 1e-7\n",
    "# label2='Newton-Ralphson'\n",
    "# root_tangent(f, fp, x0, accuracy=1.0e-6, max_steps=20, root_debug=False)"
   ]
  },
  {
   "cell_type": "code",
   "execution_count": null,
   "metadata": {},
   "outputs": [],
   "source": []
  }
 ],
 "metadata": {
  "kernelspec": {
   "display_name": "Python 3",
   "language": "python",
   "name": "python3"
  },
  "language_info": {
   "codemirror_mode": {
    "name": "ipython",
    "version": 3
   },
   "file_extension": ".py",
   "mimetype": "text/x-python",
   "name": "python",
   "nbconvert_exporter": "python",
   "pygments_lexer": "ipython3",
   "version": "3.8.5"
  }
 },
 "nbformat": 4,
 "nbformat_minor": 2
}
